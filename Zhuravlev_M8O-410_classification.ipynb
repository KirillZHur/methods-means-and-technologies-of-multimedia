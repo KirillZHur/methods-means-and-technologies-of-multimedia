{
 "cells": [
  {
   "cell_type": "markdown",
   "id": "eb1da9fb",
   "metadata": {},
   "source": [
    "# Задача классификации\n",
    "\n"
   ]
  },
  {
   "cell_type": "markdown",
   "id": "6ad074c5",
   "metadata": {},
   "source": [
    "**Для начала мы разберем все алгоритмы для задачи классификации**"
   ]
  },
  {
   "cell_type": "markdown",
   "id": "73f1e001",
   "metadata": {},
   "source": [
    "## 1. Выбор начальных условий"
   ]
  },
  {
   "cell_type": "markdown",
   "id": "fcf4c8b0",
   "metadata": {},
   "source": [
    "###  а. Набор данных"
   ]
  },
  {
   "cell_type": "markdown",
   "id": "ff846353",
   "metadata": {},
   "source": [
    "Данные https://www.kaggle.com/datasets/subhamjain/loan-prediction-based-on-customer-behavior/code\n",
    "Необходимо предсказать кто является возможными неплательщиками по потребительскому кредитному продукту. У нас есть данные об историческом поведении клиентов. Поэтому мы должны предсказать кто является рискованным клиентом, а кто нет"
   ]
  },
  {
   "cell_type": "code",
   "execution_count": 1,
   "id": "ccfebfbd",
   "metadata": {},
   "outputs": [
    {
     "name": "stdout",
     "output_type": "stream",
     "text": [
      "Collecting kaggle\n",
      "  Downloading kaggle-1.6.17.tar.gz (82 kB)\n",
      "  Preparing metadata (setup.py): started\n",
      "  Preparing metadata (setup.py): finished with status 'done'\n",
      "Requirement already satisfied: six>=1.10 in c:\\users\\asus\\anaconda3\\lib\\site-packages (from kaggle) (1.16.0)\n",
      "Requirement already satisfied: certifi>=2023.7.22 in c:\\users\\asus\\anaconda3\\lib\\site-packages (from kaggle) (2024.8.30)\n",
      "Requirement already satisfied: python-dateutil in c:\\users\\asus\\anaconda3\\lib\\site-packages (from kaggle) (2.9.0.post0)\n",
      "Requirement already satisfied: requests in c:\\users\\asus\\anaconda3\\lib\\site-packages (from kaggle) (2.32.3)\n",
      "Requirement already satisfied: tqdm in c:\\users\\asus\\anaconda3\\lib\\site-packages (from kaggle) (4.66.5)\n",
      "Requirement already satisfied: python-slugify in c:\\users\\asus\\anaconda3\\lib\\site-packages (from kaggle) (5.0.2)\n",
      "Requirement already satisfied: urllib3 in c:\\users\\asus\\anaconda3\\lib\\site-packages (from kaggle) (2.2.3)\n",
      "Requirement already satisfied: bleach in c:\\users\\asus\\anaconda3\\lib\\site-packages (from kaggle) (4.1.0)\n",
      "Requirement already satisfied: packaging in c:\\users\\asus\\anaconda3\\lib\\site-packages (from bleach->kaggle) (24.1)\n",
      "Requirement already satisfied: webencodings in c:\\users\\asus\\anaconda3\\lib\\site-packages (from bleach->kaggle) (0.5.1)\n",
      "Requirement already satisfied: text-unidecode>=1.3 in c:\\users\\asus\\anaconda3\\lib\\site-packages (from python-slugify->kaggle) (1.3)\n",
      "Requirement already satisfied: charset-normalizer<4,>=2 in c:\\users\\asus\\anaconda3\\lib\\site-packages (from requests->kaggle) (3.3.2)\n",
      "Requirement already satisfied: idna<4,>=2.5 in c:\\users\\asus\\anaconda3\\lib\\site-packages (from requests->kaggle) (3.7)\n",
      "Requirement already satisfied: colorama in c:\\users\\asus\\anaconda3\\lib\\site-packages (from tqdm->kaggle) (0.4.6)\n",
      "Building wheels for collected packages: kaggle\n",
      "  Building wheel for kaggle (setup.py): started\n",
      "  Building wheel for kaggle (setup.py): finished with status 'done'\n",
      "  Created wheel for kaggle: filename=kaggle-1.6.17-py3-none-any.whl size=105797 sha256=28b09597a25f74d186ecf886f835524bcefdf1adc3b8e2af277ca019ac4d018f\n",
      "  Stored in directory: c:\\users\\asus\\appdata\\local\\pip\\cache\\wheels\\46\\d2\\26\\84d0a1acdb9c6baccf7d28cf06962ec80529fe1ad938489983\n",
      "Successfully built kaggle\n",
      "Installing collected packages: kaggle\n",
      "Successfully installed kaggle-1.6.17\n"
     ]
    }
   ],
   "source": [
    "!pip install kaggle"
   ]
  },
  {
   "cell_type": "code",
   "execution_count": 2,
   "id": "92594cbe",
   "metadata": {},
   "outputs": [
    {
     "name": "stdout",
     "output_type": "stream",
     "text": [
      "Collecting opendatasets\n",
      "  Downloading opendatasets-0.1.22-py3-none-any.whl.metadata (9.2 kB)\n",
      "Requirement already satisfied: tqdm in c:\\users\\asus\\anaconda3\\lib\\site-packages (from opendatasets) (4.66.5)\n",
      "Requirement already satisfied: kaggle in c:\\users\\asus\\anaconda3\\lib\\site-packages (from opendatasets) (1.6.17)\n",
      "Requirement already satisfied: click in c:\\users\\asus\\anaconda3\\lib\\site-packages (from opendatasets) (8.1.7)\n",
      "Requirement already satisfied: colorama in c:\\users\\asus\\anaconda3\\lib\\site-packages (from click->opendatasets) (0.4.6)\n",
      "Requirement already satisfied: six>=1.10 in c:\\users\\asus\\anaconda3\\lib\\site-packages (from kaggle->opendatasets) (1.16.0)\n",
      "Requirement already satisfied: certifi>=2023.7.22 in c:\\users\\asus\\anaconda3\\lib\\site-packages (from kaggle->opendatasets) (2024.8.30)\n",
      "Requirement already satisfied: python-dateutil in c:\\users\\asus\\anaconda3\\lib\\site-packages (from kaggle->opendatasets) (2.9.0.post0)\n",
      "Requirement already satisfied: requests in c:\\users\\asus\\anaconda3\\lib\\site-packages (from kaggle->opendatasets) (2.32.3)\n",
      "Requirement already satisfied: python-slugify in c:\\users\\asus\\anaconda3\\lib\\site-packages (from kaggle->opendatasets) (5.0.2)\n",
      "Requirement already satisfied: urllib3 in c:\\users\\asus\\anaconda3\\lib\\site-packages (from kaggle->opendatasets) (2.2.3)\n",
      "Requirement already satisfied: bleach in c:\\users\\asus\\anaconda3\\lib\\site-packages (from kaggle->opendatasets) (4.1.0)\n",
      "Requirement already satisfied: packaging in c:\\users\\asus\\anaconda3\\lib\\site-packages (from bleach->kaggle->opendatasets) (24.1)\n",
      "Requirement already satisfied: webencodings in c:\\users\\asus\\anaconda3\\lib\\site-packages (from bleach->kaggle->opendatasets) (0.5.1)\n",
      "Requirement already satisfied: text-unidecode>=1.3 in c:\\users\\asus\\anaconda3\\lib\\site-packages (from python-slugify->kaggle->opendatasets) (1.3)\n",
      "Requirement already satisfied: charset-normalizer<4,>=2 in c:\\users\\asus\\anaconda3\\lib\\site-packages (from requests->kaggle->opendatasets) (3.3.2)\n",
      "Requirement already satisfied: idna<4,>=2.5 in c:\\users\\asus\\anaconda3\\lib\\site-packages (from requests->kaggle->opendatasets) (3.7)\n",
      "Downloading opendatasets-0.1.22-py3-none-any.whl (15 kB)\n",
      "Installing collected packages: opendatasets\n",
      "Successfully installed opendatasets-0.1.22\n",
      "Requirement already satisfied: pandas in c:\\users\\asus\\anaconda3\\lib\\site-packages (2.2.2)\n",
      "Requirement already satisfied: numpy>=1.26.0 in c:\\users\\asus\\anaconda3\\lib\\site-packages (from pandas) (1.26.4)\n",
      "Requirement already satisfied: python-dateutil>=2.8.2 in c:\\users\\asus\\anaconda3\\lib\\site-packages (from pandas) (2.9.0.post0)\n",
      "Requirement already satisfied: pytz>=2020.1 in c:\\users\\asus\\anaconda3\\lib\\site-packages (from pandas) (2024.1)\n",
      "Requirement already satisfied: tzdata>=2022.7 in c:\\users\\asus\\anaconda3\\lib\\site-packages (from pandas) (2023.3)\n",
      "Requirement already satisfied: six>=1.5 in c:\\users\\asus\\anaconda3\\lib\\site-packages (from python-dateutil>=2.8.2->pandas) (1.16.0)\n"
     ]
    }
   ],
   "source": [
    "!pip install opendatasets\n",
    "!pip install pandas"
   ]
  },
  {
   "cell_type": "code",
   "execution_count": 3,
   "id": "2ffa2958",
   "metadata": {},
   "outputs": [
    {
     "name": "stdout",
     "output_type": "stream",
     "text": [
      "Skipping, found downloaded files in \".\\loan-prediction-based-on-customer-behavior\" (use force=True to force download)\n"
     ]
    }
   ],
   "source": [
    "import opendatasets as od \n",
    "\n",
    "od.download(\"https://www.kaggle.com/datasets/subhamjain/loan-prediction-based-on-customer-behavior/data\") "
   ]
  },
  {
   "cell_type": "code",
   "execution_count": 5,
   "id": "2ea229b4",
   "metadata": {},
   "outputs": [
    {
     "data": {
      "text/html": [
       "<div>\n",
       "<style scoped>\n",
       "    .dataframe tbody tr th:only-of-type {\n",
       "        vertical-align: middle;\n",
       "    }\n",
       "\n",
       "    .dataframe tbody tr th {\n",
       "        vertical-align: top;\n",
       "    }\n",
       "\n",
       "    .dataframe thead th {\n",
       "        text-align: right;\n",
       "    }\n",
       "</style>\n",
       "<table border=\"1\" class=\"dataframe\">\n",
       "  <thead>\n",
       "    <tr style=\"text-align: right;\">\n",
       "      <th></th>\n",
       "      <th>Id</th>\n",
       "      <th>Income</th>\n",
       "      <th>Age</th>\n",
       "      <th>Experience</th>\n",
       "      <th>Married/Single</th>\n",
       "      <th>House_Ownership</th>\n",
       "      <th>Car_Ownership</th>\n",
       "      <th>Profession</th>\n",
       "      <th>CITY</th>\n",
       "      <th>STATE</th>\n",
       "      <th>CURRENT_JOB_YRS</th>\n",
       "      <th>CURRENT_HOUSE_YRS</th>\n",
       "      <th>Risk_Flag</th>\n",
       "    </tr>\n",
       "  </thead>\n",
       "  <tbody>\n",
       "    <tr>\n",
       "      <th>0</th>\n",
       "      <td>1</td>\n",
       "      <td>1303834</td>\n",
       "      <td>23</td>\n",
       "      <td>3</td>\n",
       "      <td>single</td>\n",
       "      <td>rented</td>\n",
       "      <td>no</td>\n",
       "      <td>Mechanical_engineer</td>\n",
       "      <td>Rewa</td>\n",
       "      <td>Madhya_Pradesh</td>\n",
       "      <td>3</td>\n",
       "      <td>13</td>\n",
       "      <td>0</td>\n",
       "    </tr>\n",
       "    <tr>\n",
       "      <th>1</th>\n",
       "      <td>2</td>\n",
       "      <td>7574516</td>\n",
       "      <td>40</td>\n",
       "      <td>10</td>\n",
       "      <td>single</td>\n",
       "      <td>rented</td>\n",
       "      <td>no</td>\n",
       "      <td>Software_Developer</td>\n",
       "      <td>Parbhani</td>\n",
       "      <td>Maharashtra</td>\n",
       "      <td>9</td>\n",
       "      <td>13</td>\n",
       "      <td>0</td>\n",
       "    </tr>\n",
       "    <tr>\n",
       "      <th>2</th>\n",
       "      <td>3</td>\n",
       "      <td>3991815</td>\n",
       "      <td>66</td>\n",
       "      <td>4</td>\n",
       "      <td>married</td>\n",
       "      <td>rented</td>\n",
       "      <td>no</td>\n",
       "      <td>Technical_writer</td>\n",
       "      <td>Alappuzha</td>\n",
       "      <td>Kerala</td>\n",
       "      <td>4</td>\n",
       "      <td>10</td>\n",
       "      <td>0</td>\n",
       "    </tr>\n",
       "    <tr>\n",
       "      <th>3</th>\n",
       "      <td>4</td>\n",
       "      <td>6256451</td>\n",
       "      <td>41</td>\n",
       "      <td>2</td>\n",
       "      <td>single</td>\n",
       "      <td>rented</td>\n",
       "      <td>yes</td>\n",
       "      <td>Software_Developer</td>\n",
       "      <td>Bhubaneswar</td>\n",
       "      <td>Odisha</td>\n",
       "      <td>2</td>\n",
       "      <td>12</td>\n",
       "      <td>1</td>\n",
       "    </tr>\n",
       "    <tr>\n",
       "      <th>4</th>\n",
       "      <td>5</td>\n",
       "      <td>5768871</td>\n",
       "      <td>47</td>\n",
       "      <td>11</td>\n",
       "      <td>single</td>\n",
       "      <td>rented</td>\n",
       "      <td>no</td>\n",
       "      <td>Civil_servant</td>\n",
       "      <td>Tiruchirappalli[10]</td>\n",
       "      <td>Tamil_Nadu</td>\n",
       "      <td>3</td>\n",
       "      <td>14</td>\n",
       "      <td>1</td>\n",
       "    </tr>\n",
       "    <tr>\n",
       "      <th>5</th>\n",
       "      <td>6</td>\n",
       "      <td>6915937</td>\n",
       "      <td>64</td>\n",
       "      <td>0</td>\n",
       "      <td>single</td>\n",
       "      <td>rented</td>\n",
       "      <td>no</td>\n",
       "      <td>Civil_servant</td>\n",
       "      <td>Jalgaon</td>\n",
       "      <td>Maharashtra</td>\n",
       "      <td>0</td>\n",
       "      <td>12</td>\n",
       "      <td>0</td>\n",
       "    </tr>\n",
       "    <tr>\n",
       "      <th>6</th>\n",
       "      <td>7</td>\n",
       "      <td>3954973</td>\n",
       "      <td>58</td>\n",
       "      <td>14</td>\n",
       "      <td>married</td>\n",
       "      <td>rented</td>\n",
       "      <td>no</td>\n",
       "      <td>Librarian</td>\n",
       "      <td>Tiruppur</td>\n",
       "      <td>Tamil_Nadu</td>\n",
       "      <td>8</td>\n",
       "      <td>12</td>\n",
       "      <td>0</td>\n",
       "    </tr>\n",
       "    <tr>\n",
       "      <th>7</th>\n",
       "      <td>8</td>\n",
       "      <td>1706172</td>\n",
       "      <td>33</td>\n",
       "      <td>2</td>\n",
       "      <td>single</td>\n",
       "      <td>rented</td>\n",
       "      <td>no</td>\n",
       "      <td>Economist</td>\n",
       "      <td>Jamnagar</td>\n",
       "      <td>Gujarat</td>\n",
       "      <td>2</td>\n",
       "      <td>14</td>\n",
       "      <td>0</td>\n",
       "    </tr>\n",
       "    <tr>\n",
       "      <th>8</th>\n",
       "      <td>9</td>\n",
       "      <td>7566849</td>\n",
       "      <td>24</td>\n",
       "      <td>17</td>\n",
       "      <td>single</td>\n",
       "      <td>rented</td>\n",
       "      <td>yes</td>\n",
       "      <td>Flight_attendant</td>\n",
       "      <td>Kota[6]</td>\n",
       "      <td>Rajasthan</td>\n",
       "      <td>11</td>\n",
       "      <td>11</td>\n",
       "      <td>0</td>\n",
       "    </tr>\n",
       "    <tr>\n",
       "      <th>9</th>\n",
       "      <td>10</td>\n",
       "      <td>8964846</td>\n",
       "      <td>23</td>\n",
       "      <td>12</td>\n",
       "      <td>single</td>\n",
       "      <td>rented</td>\n",
       "      <td>no</td>\n",
       "      <td>Architect</td>\n",
       "      <td>Karimnagar</td>\n",
       "      <td>Telangana</td>\n",
       "      <td>5</td>\n",
       "      <td>13</td>\n",
       "      <td>0</td>\n",
       "    </tr>\n",
       "    <tr>\n",
       "      <th>10</th>\n",
       "      <td>11</td>\n",
       "      <td>4634680</td>\n",
       "      <td>78</td>\n",
       "      <td>7</td>\n",
       "      <td>single</td>\n",
       "      <td>rented</td>\n",
       "      <td>no</td>\n",
       "      <td>Flight_attendant</td>\n",
       "      <td>Hajipur[31]</td>\n",
       "      <td>Bihar</td>\n",
       "      <td>7</td>\n",
       "      <td>12</td>\n",
       "      <td>0</td>\n",
       "    </tr>\n",
       "    <tr>\n",
       "      <th>11</th>\n",
       "      <td>12</td>\n",
       "      <td>6623263</td>\n",
       "      <td>22</td>\n",
       "      <td>4</td>\n",
       "      <td>single</td>\n",
       "      <td>rented</td>\n",
       "      <td>no</td>\n",
       "      <td>Designer</td>\n",
       "      <td>Adoni</td>\n",
       "      <td>Andhra_Pradesh</td>\n",
       "      <td>4</td>\n",
       "      <td>14</td>\n",
       "      <td>0</td>\n",
       "    </tr>\n",
       "    <tr>\n",
       "      <th>12</th>\n",
       "      <td>13</td>\n",
       "      <td>9120988</td>\n",
       "      <td>28</td>\n",
       "      <td>9</td>\n",
       "      <td>single</td>\n",
       "      <td>rented</td>\n",
       "      <td>no</td>\n",
       "      <td>Physician</td>\n",
       "      <td>Erode[17]</td>\n",
       "      <td>Tamil_Nadu</td>\n",
       "      <td>9</td>\n",
       "      <td>12</td>\n",
       "      <td>0</td>\n",
       "    </tr>\n",
       "    <tr>\n",
       "      <th>13</th>\n",
       "      <td>14</td>\n",
       "      <td>8043880</td>\n",
       "      <td>57</td>\n",
       "      <td>12</td>\n",
       "      <td>single</td>\n",
       "      <td>rented</td>\n",
       "      <td>no</td>\n",
       "      <td>Financial_Analyst</td>\n",
       "      <td>Kollam</td>\n",
       "      <td>Kerala</td>\n",
       "      <td>8</td>\n",
       "      <td>10</td>\n",
       "      <td>0</td>\n",
       "    </tr>\n",
       "    <tr>\n",
       "      <th>14</th>\n",
       "      <td>15</td>\n",
       "      <td>9420838</td>\n",
       "      <td>48</td>\n",
       "      <td>6</td>\n",
       "      <td>single</td>\n",
       "      <td>rented</td>\n",
       "      <td>no</td>\n",
       "      <td>Technical_writer</td>\n",
       "      <td>Madurai</td>\n",
       "      <td>Tamil_Nadu</td>\n",
       "      <td>6</td>\n",
       "      <td>10</td>\n",
       "      <td>1</td>\n",
       "    </tr>\n",
       "  </tbody>\n",
       "</table>\n",
       "</div>"
      ],
      "text/plain": [
       "    Id   Income  Age  Experience Married/Single House_Ownership Car_Ownership  \\\n",
       "0    1  1303834   23           3         single          rented            no   \n",
       "1    2  7574516   40          10         single          rented            no   \n",
       "2    3  3991815   66           4        married          rented            no   \n",
       "3    4  6256451   41           2         single          rented           yes   \n",
       "4    5  5768871   47          11         single          rented            no   \n",
       "5    6  6915937   64           0         single          rented            no   \n",
       "6    7  3954973   58          14        married          rented            no   \n",
       "7    8  1706172   33           2         single          rented            no   \n",
       "8    9  7566849   24          17         single          rented           yes   \n",
       "9   10  8964846   23          12         single          rented            no   \n",
       "10  11  4634680   78           7         single          rented            no   \n",
       "11  12  6623263   22           4         single          rented            no   \n",
       "12  13  9120988   28           9         single          rented            no   \n",
       "13  14  8043880   57          12         single          rented            no   \n",
       "14  15  9420838   48           6         single          rented            no   \n",
       "\n",
       "             Profession                 CITY           STATE  CURRENT_JOB_YRS  \\\n",
       "0   Mechanical_engineer                 Rewa  Madhya_Pradesh                3   \n",
       "1    Software_Developer             Parbhani     Maharashtra                9   \n",
       "2      Technical_writer            Alappuzha          Kerala                4   \n",
       "3    Software_Developer          Bhubaneswar          Odisha                2   \n",
       "4         Civil_servant  Tiruchirappalli[10]      Tamil_Nadu                3   \n",
       "5         Civil_servant              Jalgaon     Maharashtra                0   \n",
       "6             Librarian             Tiruppur      Tamil_Nadu                8   \n",
       "7             Economist             Jamnagar         Gujarat                2   \n",
       "8      Flight_attendant              Kota[6]       Rajasthan               11   \n",
       "9             Architect           Karimnagar       Telangana                5   \n",
       "10     Flight_attendant          Hajipur[31]           Bihar                7   \n",
       "11             Designer                Adoni  Andhra_Pradesh                4   \n",
       "12            Physician            Erode[17]      Tamil_Nadu                9   \n",
       "13    Financial_Analyst               Kollam          Kerala                8   \n",
       "14     Technical_writer              Madurai      Tamil_Nadu                6   \n",
       "\n",
       "    CURRENT_HOUSE_YRS  Risk_Flag  \n",
       "0                  13          0  \n",
       "1                  13          0  \n",
       "2                  10          0  \n",
       "3                  12          1  \n",
       "4                  14          1  \n",
       "5                  12          0  \n",
       "6                  12          0  \n",
       "7                  14          0  \n",
       "8                  11          0  \n",
       "9                  13          0  \n",
       "10                 12          0  \n",
       "11                 14          0  \n",
       "12                 12          0  \n",
       "13                 10          0  \n",
       "14                 10          1  "
      ]
     },
     "execution_count": 5,
     "metadata": {},
     "output_type": "execute_result"
    }
   ],
   "source": [
    "import pandas as pd\n",
    "\n",
    "data = pd.read_csv('loan-prediction-based-on-customer-behavior/Training Data.csv')\n",
    "data.head(15)"
   ]
  },
  {
   "cell_type": "markdown",
   "id": "26ab214c-42d3-469f-abd6-cb5b91d38120",
   "metadata": {},
   "source": [
    "### b. Метрики качества"
   ]
  },
  {
   "cell_type": "markdown",
   "id": "24abf5cd-e5f8-484f-8311-5a7d30e3031d",
   "metadata": {},
   "source": [
    "В качестве метри для задачи классификации будем использовать Accuracy = (TP + TN) / (TP + TN + FP + FN) и F1-score = 2 * (presicion * recall) /  (presicion + recall)"
   ]
  },
  {
   "cell_type": "markdown",
   "id": "d4dc3870-783e-42f2-a452-65ccf14ff0ec",
   "metadata": {},
   "source": [
    "Данные метрики подойдут, поскольку в данном датасете представлена задача бинарной классификации со сбалансированными данными"
   ]
  },
  {
   "cell_type": "markdown",
   "id": "20d8d3e9-5733-433c-b2cd-b9fe346d6484",
   "metadata": {},
   "source": [
    "# 2. Создание бейзлайна и оценка качества"
   ]
  },
  {
   "cell_type": "markdown",
   "id": "e28b03b3-ef47-405b-94c8-f1ab9e8a0d2f",
   "metadata": {},
   "source": [
    "## a. KNN"
   ]
  },
  {
   "cell_type": "code",
   "execution_count": 44,
   "id": "ec6c85a2-2d66-446b-8ab9-6ac8d830b840",
   "metadata": {},
   "outputs": [],
   "source": [
    "from sklearn.model_selection import train_test_split\n",
    "from sklearn.neighbors import KNeighborsClassifier\n",
    "from sklearn.metrics import accuracy_score, f1_score, classification_report\n",
    "import numpy as np\n",
    "import pandas as pd"
   ]
  },
  {
   "cell_type": "code",
   "execution_count": 49,
   "id": "e92b7422-4e1c-4aba-b169-7c5e63a790e5",
   "metadata": {},
   "outputs": [],
   "source": [
    "def print_evaluation(y_test, y_pred):\n",
    "    print(\"Accuracy score\")\n",
    "    print(accuracy_score(y_test, y_pred))\n",
    "    print()\n",
    "    #print(\"F1 score\")\n",
    "    print(classification_report(y_test, y_pred))"
   ]
  },
  {
   "cell_type": "code",
   "execution_count": 19,
   "id": "af6ea5ff-8771-4f0a-8899-d645142e1a2c",
   "metadata": {},
   "outputs": [],
   "source": [
    "from sklearn.preprocessing import StandardScaler, LabelEncoder\n",
    "\n",
    "label_encoders = {}\n",
    "for column in data.select_dtypes(include=\"object\").columns:\n",
    "    le = LabelEncoder()\n",
    "    data[column] = le.fit_transform(data[column])\n",
    "    label_encoders[column] = le\n",
    "\n"
   ]
  },
  {
   "cell_type": "code",
   "execution_count": 50,
   "id": "1cb5c4e3-bc6e-403d-8153-b0b8de499e59",
   "metadata": {},
   "outputs": [
    {
     "name": "stdout",
     "output_type": "stream",
     "text": [
      "Accuracy score\n",
      "0.8890277777777778\n",
      "\n",
      "              precision    recall  f1-score   support\n",
      "\n",
      "           0       0.93      0.95      0.94     44147\n",
      "           1       0.56      0.48      0.52      6253\n",
      "\n",
      "    accuracy                           0.89     50400\n",
      "   macro avg       0.74      0.71      0.73     50400\n",
      "weighted avg       0.88      0.89      0.89     50400\n",
      "\n"
     ]
    }
   ],
   "source": [
    "\n",
    "X = data.drop(['Id', 'Risk_Flag'], axis=1)\n",
    "y = data['Risk_Flag']\n",
    "\n",
    "X_train, X_test, y_train, y_test = train_test_split(X, y, test_size=0.2, random_state=42)\n",
    "\n",
    "model_1 = KNeighborsClassifier(n_neighbors=5)\n",
    "model_1.fit(X_train,y_train)\n",
    "\n",
    "y_pred = model_1.predict(X_test)\n",
    "print_evaluation(y_test, y_pred)"
   ]
  },
  {
   "cell_type": "code",
   "execution_count": 23,
   "id": "d627b1a9-ac5f-4943-81cb-80d78a00c3af",
   "metadata": {},
   "outputs": [
    {
     "data": {
      "image/png": "[encoded data removed]",
      "text/plain": [
       "<Figure size 800x600 with 2 Axes>"
      ]
     },
     "metadata": {},
     "output_type": "display_data"
    }
   ],
   "source": [
    "from sklearn.metrics import confusion_matrix, ConfusionMatrixDisplay\n",
    "import seaborn as sns\n",
    "import matplotlib.pyplot as plt\n",
    "\n",
    "cm = confusion_matrix(y_test, y_pred)\n",
    "labels = [\"Class 0\", \"Class 1\"]\n",
    "\n",
    "plt.figure(figsize=(8, 6))\n",
    "sns.heatmap(cm, annot=True, fmt=\"d\", cmap=\"Blues\", xticklabels=labels, yticklabels=labels)\n",
    "plt.xlabel(\"Predicted Label\")\n",
    "plt.ylabel(\"True Label\")\n",
    "plt.title(\"Confusion Matrix\")\n",
    "plt.show()"
   ]
  },
  {
   "cell_type": "markdown",
   "id": "475b236b-f7e4-4bc4-9ed5-4ae7592b7b8e",
   "metadata": {},
   "source": [
    "## b. Логистическая и линейная регрессия"
   ]
  },
  {
   "cell_type": "code",
   "execution_count": 31,
   "id": "aea8ced1-f8be-4e39-83df-380d85ba6747",
   "metadata": {},
   "outputs": [],
   "source": [
    "from sklearn.linear_model import LogisticRegression, LinearRegression\n",
    "from sklearn.metrics import mean_squared_error, r2_score\n",
    "\n",
    "def print_evaluation2(y_test, y_pred):\n",
    "    print(\"MSE score\")\n",
    "    print(mean_squared_error(y_test, y_pred))\n",
    "    print(\"Accuracy score\")\n",
    "    print(accuracy_score(y_test, y_pred))"
   ]
  },
  {
   "cell_type": "code",
   "execution_count": 32,
   "id": "9aea924c-4a72-4f7b-8e0f-8e1aaad9b83d",
   "metadata": {},
   "outputs": [
    {
     "name": "stdout",
     "output_type": "stream",
     "text": [
      "MSE score\n",
      "0.12406746031746031\n",
      "Accuracy score\n",
      "0.8759325396825397\n"
     ]
    },
    {
     "name": "stderr",
     "output_type": "stream",
     "text": [
      "C:\\Users\\Asus\\anaconda3\\Lib\\site-packages\\sklearn\\linear_model\\_logistic.py:469: ConvergenceWarning: lbfgs failed to converge (status=1):\n",
      "STOP: TOTAL NO. of ITERATIONS REACHED LIMIT.\n",
      "\n",
      "Increase the number of iterations (max_iter) or scale the data as shown in:\n",
      "    https://scikit-learn.org/stable/modules/preprocessing.html\n",
      "Please also refer to the documentation for alternative solver options:\n",
      "    https://scikit-learn.org/stable/modules/linear_model.html#logistic-regression\n",
      "  n_iter_i = _check_optimize_result(\n"
     ]
    }
   ],
   "source": [
    "model_2 = LogisticRegression(random_state=42)\n",
    "model_2.fit(X_train,y_train)\n",
    "\n",
    "y_pred2 = model_2.predict(X_test)\n",
    "print_evaluation2(y_test, y_pred2)"
   ]
  },
  {
   "cell_type": "code",
   "execution_count": 35,
   "id": "399fb2b2-57bc-4456-98af-c5153a126c3b",
   "metadata": {},
   "outputs": [
    {
     "name": "stdout",
     "output_type": "stream",
     "text": [
      "MSE score\n",
      "0.10829363367153573\n"
     ]
    }
   ],
   "source": [
    "model_3 = LinearRegression()\n",
    "model_3.fit(X_train,y_train)\n",
    "\n",
    "y_pred3 = model_3.predict(X_test)\n",
    "print(\"MSE score\")\n",
    "print(mean_squared_error(y_test, y_pred))"
   ]
  },
  {
   "cell_type": "markdown",
   "id": "b8723aaa-ef6e-4198-890e-8da533c31bd1",
   "metadata": {},
   "source": [
    "## c. Решающее дерево"
   ]
  },
  {
   "cell_type": "code",
   "execution_count": 37,
   "id": "9efedf46-a55e-4084-8ef5-ea7a397bf6ce",
   "metadata": {},
   "outputs": [],
   "source": [
    "from sklearn.tree import DecisionTreeClassifier"
   ]
  },
  {
   "cell_type": "code",
   "execution_count": 51,
   "id": "42a186e8-31cc-4a18-8fd7-4f2b17a8f5ac",
   "metadata": {},
   "outputs": [
    {
     "name": "stdout",
     "output_type": "stream",
     "text": [
      "Accuracy score\n",
      "0.8800396825396826\n",
      "\n",
      "              precision    recall  f1-score   support\n",
      "\n",
      "           0       0.94      0.92      0.93     44147\n",
      "           1       0.51      0.57      0.54      6253\n",
      "\n",
      "    accuracy                           0.88     50400\n",
      "   macro avg       0.73      0.75      0.74     50400\n",
      "weighted avg       0.89      0.88      0.88     50400\n",
      "\n"
     ]
    }
   ],
   "source": [
    "model_4 = DecisionTreeClassifier(random_state=42)\n",
    "model_4.fit(X_train,y_train)\n",
    "\n",
    "y_pred4 = model_4.predict(X_test)\n",
    "print_evaluation(y_test, y_pred4)"
   ]
  },
  {
   "cell_type": "code",
   "execution_count": 39,
   "id": "b64ac01b-b7b9-4fd2-8ab7-b1c5099653f1",
   "metadata": {},
   "outputs": [
    {
     "data": {
      "image/png": "[encoded data removed]",
      "text/plain": [
       "<Figure size 800x600 with 2 Axes>"
      ]
     },
     "metadata": {},
     "output_type": "display_data"
    }
   ],
   "source": [
    "cm = confusion_matrix(y_test, y_pred4)\n",
    "labels = [\"Class 0\", \"Class 1\"]\n",
    "\n",
    "plt.figure(figsize=(8, 6))\n",
    "sns.heatmap(cm, annot=True, fmt=\"d\", cmap=\"Blues\", xticklabels=labels, yticklabels=labels)\n",
    "plt.xlabel(\"Predicted Label\")\n",
    "plt.ylabel(\"True Label\")\n",
    "plt.title(\"Confusion Matrix\")\n",
    "plt.show()"
   ]
  },
  {
   "cell_type": "markdown",
   "id": "f4bc7580-fa63-4920-b611-99a09def3530",
   "metadata": {},
   "source": [
    "## d. Случайный лес"
   ]
  },
  {
   "cell_type": "code",
   "execution_count": 40,
   "id": "7ed69dca-402c-4fb4-9de5-c440443b27d9",
   "metadata": {},
   "outputs": [],
   "source": [
    "from sklearn.ensemble import RandomForestClassifier, GradientBoostingClassifier"
   ]
  },
  {
   "cell_type": "code",
   "execution_count": 52,
   "id": "5639f23b-5037-45cd-890a-e0bf7bf3330d",
   "metadata": {},
   "outputs": [
    {
     "name": "stdout",
     "output_type": "stream",
     "text": [
      "Accuracy score\n",
      "0.8984920634920635\n",
      "\n",
      "              precision    recall  f1-score   support\n",
      "\n",
      "           0       0.94      0.95      0.94     44147\n",
      "           1       0.60      0.54      0.57      6253\n",
      "\n",
      "    accuracy                           0.90     50400\n",
      "   macro avg       0.77      0.74      0.75     50400\n",
      "weighted avg       0.89      0.90      0.90     50400\n",
      "\n"
     ]
    }
   ],
   "source": [
    "model_5 = RandomForestClassifier(n_estimators=100, random_state=42)\n",
    "model_5.fit(X_train,y_train)\n",
    "\n",
    "y_pred5 = model_5.predict(X_test)\n",
    "print_evaluation(y_test, y_pred5)"
   ]
  },
  {
   "cell_type": "code",
   "execution_count": 42,
   "id": "782f6ca5-e850-4c1d-890e-903826a110ea",
   "metadata": {},
   "outputs": [
    {
     "data": {
      "image/png": "[encoded data removed]",
      "text/plain": [
       "<Figure size 800x600 with 2 Axes>"
      ]
     },
     "metadata": {},
     "output_type": "display_data"
    }
   ],
   "source": [
    "cm = confusion_matrix(y_test, y_pred5)\n",
    "labels = [\"Class 0\", \"Class 1\"]\n",
    "\n",
    "plt.figure(figsize=(8, 6))\n",
    "sns.heatmap(cm, annot=True, fmt=\"d\", cmap=\"Blues\", xticklabels=labels, yticklabels=labels)\n",
    "plt.xlabel(\"Predicted Label\")\n",
    "plt.ylabel(\"True Label\")\n",
    "plt.title(\"Confusion Matrix\")\n",
    "plt.show()"
   ]
  },
  {
   "cell_type": "markdown",
   "id": "a0885583-a130-43a6-a2ce-8e587c990e1a",
   "metadata": {},
   "source": [
    "## e. Градиентный бустинг"
   ]
  },
  {
   "cell_type": "code",
   "execution_count": 53,
   "id": "86abda3a-0fd6-49b1-beef-065d89fdd81c",
   "metadata": {},
   "outputs": [
    {
     "name": "stdout",
     "output_type": "stream",
     "text": [
      "Accuracy score\n",
      "0.8761309523809524\n",
      "\n",
      "              precision    recall  f1-score   support\n",
      "\n",
      "           0       0.88      1.00      0.93     44147\n",
      "           1       0.78      0.00      0.00      6253\n",
      "\n",
      "    accuracy                           0.88     50400\n",
      "   macro avg       0.83      0.50      0.47     50400\n",
      "weighted avg       0.86      0.88      0.82     50400\n",
      "\n"
     ]
    }
   ],
   "source": [
    "model_6 = GradientBoostingClassifier(n_estimators=100, learning_rate=0.1, random_state=42)\n",
    "model_6.fit(X_train,y_train)\n",
    "\n",
    "y_pred6 = model_6.predict(X_test)\n",
    "print_evaluation(y_test, y_pred6)"
   ]
  },
  {
   "cell_type": "code",
   "execution_count": 54,
   "id": "c2a9e48e-2f99-40cf-a596-03009f82207d",
   "metadata": {},
   "outputs": [
    {
     "data": {
      "image/png": "[encoded data removed]",
      "text/plain": [
       "<Figure size 800x600 with 2 Axes>"
      ]
     },
     "metadata": {},
     "output_type": "display_data"
    }
   ],
   "source": [
    "cm = confusion_matrix(y_test, y_pred6)\n",
    "labels = [\"Class 0\", \"Class 1\"]\n",
    "\n",
    "plt.figure(figsize=(8, 6))\n",
    "sns.heatmap(cm, annot=True, fmt=\"d\", cmap=\"Blues\", xticklabels=labels, yticklabels=labels)\n",
    "plt.xlabel(\"Predicted Label\")\n",
    "plt.ylabel(\"True Label\")\n",
    "plt.title(\"Confusion Matrix\")\n",
    "plt.show()"
   ]
  },
  {
   "cell_type": "markdown",
   "id": "1aaa870e-f15d-421f-b9d4-ba35496da040",
   "metadata": {},
   "source": [
    "# 3. Улучшение бейзлайна"
   ]
  },
  {
   "cell_type": "markdown",
   "id": "428d6eb4-bc46-4445-b76f-b4d6b35d56d6",
   "metadata": {},
   "source": [
    "Выполним препроцессинг данных, чтобы улучшить бейзлайн"
   ]
  },
  {
   "cell_type": "code",
   "execution_count": 55,
   "id": "d493ebd8-5877-4ab1-9842-d248ff4bdf7f",
   "metadata": {},
   "outputs": [
    {
     "data": {
      "text/html": [
       "<div>\n",
       "<style scoped>\n",
       "    .dataframe tbody tr th:only-of-type {\n",
       "        vertical-align: middle;\n",
       "    }\n",
       "\n",
       "    .dataframe tbody tr th {\n",
       "        vertical-align: top;\n",
       "    }\n",
       "\n",
       "    .dataframe thead th {\n",
       "        text-align: right;\n",
       "    }\n",
       "</style>\n",
       "<table border=\"1\" class=\"dataframe\">\n",
       "  <thead>\n",
       "    <tr style=\"text-align: right;\">\n",
       "      <th></th>\n",
       "      <th>Id</th>\n",
       "      <th>Income</th>\n",
       "      <th>Age</th>\n",
       "      <th>Experience</th>\n",
       "      <th>Married/Single</th>\n",
       "      <th>House_Ownership</th>\n",
       "      <th>Car_Ownership</th>\n",
       "      <th>Profession</th>\n",
       "      <th>CITY</th>\n",
       "      <th>STATE</th>\n",
       "      <th>CURRENT_JOB_YRS</th>\n",
       "      <th>CURRENT_HOUSE_YRS</th>\n",
       "      <th>Risk_Flag</th>\n",
       "    </tr>\n",
       "  </thead>\n",
       "  <tbody>\n",
       "    <tr>\n",
       "      <th>0</th>\n",
       "      <td>1</td>\n",
       "      <td>1303834</td>\n",
       "      <td>23</td>\n",
       "      <td>3</td>\n",
       "      <td>single</td>\n",
       "      <td>rented</td>\n",
       "      <td>no</td>\n",
       "      <td>Mechanical_engineer</td>\n",
       "      <td>Rewa</td>\n",
       "      <td>Madhya_Pradesh</td>\n",
       "      <td>3</td>\n",
       "      <td>13</td>\n",
       "      <td>0</td>\n",
       "    </tr>\n",
       "    <tr>\n",
       "      <th>1</th>\n",
       "      <td>2</td>\n",
       "      <td>7574516</td>\n",
       "      <td>40</td>\n",
       "      <td>10</td>\n",
       "      <td>single</td>\n",
       "      <td>rented</td>\n",
       "      <td>no</td>\n",
       "      <td>Software_Developer</td>\n",
       "      <td>Parbhani</td>\n",
       "      <td>Maharashtra</td>\n",
       "      <td>9</td>\n",
       "      <td>13</td>\n",
       "      <td>0</td>\n",
       "    </tr>\n",
       "    <tr>\n",
       "      <th>2</th>\n",
       "      <td>3</td>\n",
       "      <td>3991815</td>\n",
       "      <td>66</td>\n",
       "      <td>4</td>\n",
       "      <td>married</td>\n",
       "      <td>rented</td>\n",
       "      <td>no</td>\n",
       "      <td>Technical_writer</td>\n",
       "      <td>Alappuzha</td>\n",
       "      <td>Kerala</td>\n",
       "      <td>4</td>\n",
       "      <td>10</td>\n",
       "      <td>0</td>\n",
       "    </tr>\n",
       "    <tr>\n",
       "      <th>3</th>\n",
       "      <td>4</td>\n",
       "      <td>6256451</td>\n",
       "      <td>41</td>\n",
       "      <td>2</td>\n",
       "      <td>single</td>\n",
       "      <td>rented</td>\n",
       "      <td>yes</td>\n",
       "      <td>Software_Developer</td>\n",
       "      <td>Bhubaneswar</td>\n",
       "      <td>Odisha</td>\n",
       "      <td>2</td>\n",
       "      <td>12</td>\n",
       "      <td>1</td>\n",
       "    </tr>\n",
       "    <tr>\n",
       "      <th>4</th>\n",
       "      <td>5</td>\n",
       "      <td>5768871</td>\n",
       "      <td>47</td>\n",
       "      <td>11</td>\n",
       "      <td>single</td>\n",
       "      <td>rented</td>\n",
       "      <td>no</td>\n",
       "      <td>Civil_servant</td>\n",
       "      <td>Tiruchirappalli[10]</td>\n",
       "      <td>Tamil_Nadu</td>\n",
       "      <td>3</td>\n",
       "      <td>14</td>\n",
       "      <td>1</td>\n",
       "    </tr>\n",
       "    <tr>\n",
       "      <th>...</th>\n",
       "      <td>...</td>\n",
       "      <td>...</td>\n",
       "      <td>...</td>\n",
       "      <td>...</td>\n",
       "      <td>...</td>\n",
       "      <td>...</td>\n",
       "      <td>...</td>\n",
       "      <td>...</td>\n",
       "      <td>...</td>\n",
       "      <td>...</td>\n",
       "      <td>...</td>\n",
       "      <td>...</td>\n",
       "      <td>...</td>\n",
       "    </tr>\n",
       "    <tr>\n",
       "      <th>251995</th>\n",
       "      <td>251996</td>\n",
       "      <td>8154883</td>\n",
       "      <td>43</td>\n",
       "      <td>13</td>\n",
       "      <td>single</td>\n",
       "      <td>rented</td>\n",
       "      <td>no</td>\n",
       "      <td>Surgeon</td>\n",
       "      <td>Kolkata</td>\n",
       "      <td>West_Bengal</td>\n",
       "      <td>6</td>\n",
       "      <td>11</td>\n",
       "      <td>0</td>\n",
       "    </tr>\n",
       "    <tr>\n",
       "      <th>251996</th>\n",
       "      <td>251997</td>\n",
       "      <td>2843572</td>\n",
       "      <td>26</td>\n",
       "      <td>10</td>\n",
       "      <td>single</td>\n",
       "      <td>rented</td>\n",
       "      <td>no</td>\n",
       "      <td>Army_officer</td>\n",
       "      <td>Rewa</td>\n",
       "      <td>Madhya_Pradesh</td>\n",
       "      <td>6</td>\n",
       "      <td>11</td>\n",
       "      <td>0</td>\n",
       "    </tr>\n",
       "    <tr>\n",
       "      <th>251997</th>\n",
       "      <td>251998</td>\n",
       "      <td>4522448</td>\n",
       "      <td>46</td>\n",
       "      <td>7</td>\n",
       "      <td>single</td>\n",
       "      <td>rented</td>\n",
       "      <td>no</td>\n",
       "      <td>Design_Engineer</td>\n",
       "      <td>Kalyan-Dombivli</td>\n",
       "      <td>Maharashtra</td>\n",
       "      <td>7</td>\n",
       "      <td>12</td>\n",
       "      <td>0</td>\n",
       "    </tr>\n",
       "    <tr>\n",
       "      <th>251998</th>\n",
       "      <td>251999</td>\n",
       "      <td>6507128</td>\n",
       "      <td>45</td>\n",
       "      <td>0</td>\n",
       "      <td>single</td>\n",
       "      <td>rented</td>\n",
       "      <td>no</td>\n",
       "      <td>Graphic_Designer</td>\n",
       "      <td>Pondicherry</td>\n",
       "      <td>Puducherry</td>\n",
       "      <td>0</td>\n",
       "      <td>10</td>\n",
       "      <td>0</td>\n",
       "    </tr>\n",
       "    <tr>\n",
       "      <th>251999</th>\n",
       "      <td>252000</td>\n",
       "      <td>9070230</td>\n",
       "      <td>70</td>\n",
       "      <td>17</td>\n",
       "      <td>single</td>\n",
       "      <td>rented</td>\n",
       "      <td>no</td>\n",
       "      <td>Statistician</td>\n",
       "      <td>Avadi</td>\n",
       "      <td>Tamil_Nadu</td>\n",
       "      <td>7</td>\n",
       "      <td>11</td>\n",
       "      <td>0</td>\n",
       "    </tr>\n",
       "  </tbody>\n",
       "</table>\n",
       "<p>252000 rows × 13 columns</p>\n",
       "</div>"
      ],
      "text/plain": [
       "            Id   Income  Age  Experience Married/Single House_Ownership  \\\n",
       "0            1  1303834   23           3         single          rented   \n",
       "1            2  7574516   40          10         single          rented   \n",
       "2            3  3991815   66           4        married          rented   \n",
       "3            4  6256451   41           2         single          rented   \n",
       "4            5  5768871   47          11         single          rented   \n",
       "...        ...      ...  ...         ...            ...             ...   \n",
       "251995  251996  8154883   43          13         single          rented   \n",
       "251996  251997  2843572   26          10         single          rented   \n",
       "251997  251998  4522448   46           7         single          rented   \n",
       "251998  251999  6507128   45           0         single          rented   \n",
       "251999  252000  9070230   70          17         single          rented   \n",
       "\n",
       "       Car_Ownership           Profession                 CITY  \\\n",
       "0                 no  Mechanical_engineer                 Rewa   \n",
       "1                 no   Software_Developer             Parbhani   \n",
       "2                 no     Technical_writer            Alappuzha   \n",
       "3                yes   Software_Developer          Bhubaneswar   \n",
       "4                 no        Civil_servant  Tiruchirappalli[10]   \n",
       "...              ...                  ...                  ...   \n",
       "251995            no              Surgeon              Kolkata   \n",
       "251996            no         Army_officer                 Rewa   \n",
       "251997            no      Design_Engineer      Kalyan-Dombivli   \n",
       "251998            no     Graphic_Designer          Pondicherry   \n",
       "251999            no         Statistician                Avadi   \n",
       "\n",
       "                 STATE  CURRENT_JOB_YRS  CURRENT_HOUSE_YRS  Risk_Flag  \n",
       "0       Madhya_Pradesh                3                 13          0  \n",
       "1          Maharashtra                9                 13          0  \n",
       "2               Kerala                4                 10          0  \n",
       "3               Odisha                2                 12          1  \n",
       "4           Tamil_Nadu                3                 14          1  \n",
       "...                ...              ...                ...        ...  \n",
       "251995     West_Bengal                6                 11          0  \n",
       "251996  Madhya_Pradesh                6                 11          0  \n",
       "251997     Maharashtra                7                 12          0  \n",
       "251998      Puducherry                0                 10          0  \n",
       "251999      Tamil_Nadu                7                 11          0  \n",
       "\n",
       "[252000 rows x 13 columns]"
      ]
     },
     "execution_count": 55,
     "metadata": {},
     "output_type": "execute_result"
    }
   ],
   "source": [
    "df = pd.read_csv('loan-prediction-based-on-customer-behavior/Training Data.csv')\n",
    "df"
   ]
  },
  {
   "cell_type": "markdown",
   "id": "4251d99b-30c4-4a4b-9334-b79582b8ef3f",
   "metadata": {},
   "source": [
    "Исследуем датасет и визуализируем некоторую информацию"
   ]
  },
  {
   "cell_type": "code",
   "execution_count": 56,
   "id": "178aab06-505b-4203-8f0f-0998e6c630ed",
   "metadata": {},
   "outputs": [
    {
     "name": "stdout",
     "output_type": "stream",
     "text": [
      "<class 'pandas.core.frame.DataFrame'>\n",
      "RangeIndex: 252000 entries, 0 to 251999\n",
      "Data columns (total 13 columns):\n",
      " #   Column             Non-Null Count   Dtype \n",
      "---  ------             --------------   ----- \n",
      " 0   Id                 252000 non-null  int64 \n",
      " 1   Income             252000 non-null  int64 \n",
      " 2   Age                252000 non-null  int64 \n",
      " 3   Experience         252000 non-null  int64 \n",
      " 4   Married/Single     252000 non-null  object\n",
      " 5   House_Ownership    252000 non-null  object\n",
      " 6   Car_Ownership      252000 non-null  object\n",
      " 7   Profession         252000 non-null  object\n",
      " 8   CITY               252000 non-null  object\n",
      " 9   STATE              252000 non-null  object\n",
      " 10  CURRENT_JOB_YRS    252000 non-null  int64 \n",
      " 11  CURRENT_HOUSE_YRS  252000 non-null  int64 \n",
      " 12  Risk_Flag          252000 non-null  int64 \n",
      "dtypes: int64(7), object(6)\n",
      "memory usage: 25.0+ MB\n"
     ]
    }
   ],
   "source": [
    "df.info()"
   ]
  },
  {
   "cell_type": "code",
   "execution_count": 57,
   "id": "7dbd8a2f-f781-4985-8f01-08e02f7d0df3",
   "metadata": {},
   "outputs": [
    {
     "data": {
      "text/plain": [
       "Id                   0\n",
       "Income               0\n",
       "Age                  0\n",
       "Experience           0\n",
       "Married/Single       0\n",
       "House_Ownership      0\n",
       "Car_Ownership        0\n",
       "Profession           0\n",
       "CITY                 0\n",
       "STATE                0\n",
       "CURRENT_JOB_YRS      0\n",
       "CURRENT_HOUSE_YRS    0\n",
       "Risk_Flag            0\n",
       "dtype: int64"
      ]
     },
     "execution_count": 57,
     "metadata": {},
     "output_type": "execute_result"
    }
   ],
   "source": [
    "df.isnull().sum()"
   ]
  },
  {
   "cell_type": "code",
   "execution_count": 58,
   "id": "cdd7d74a-1c52-4e7b-9db5-bc4b3fe6127f",
   "metadata": {},
   "outputs": [
    {
     "name": "stderr",
     "output_type": "stream",
     "text": [
      "C:\\Users\\Asus\\AppData\\Local\\Temp\\ipykernel_67248\\351242229.py:1: UserWarning: \n",
      "\n",
      "`distplot` is a deprecated function and will be removed in seaborn v0.14.0.\n",
      "\n",
      "Please adapt your code to use either `displot` (a figure-level function with\n",
      "similar flexibility) or `histplot` (an axes-level function for histograms).\n",
      "\n",
      "For a guide to updating your code to use the new functions, please see\n",
      "https://gist.github.com/mwaskom/de44147ed2974457ad6372750bbe5751\n",
      "\n",
      "  sns.distplot(a=df[\"Age\"]);\n"
     ]
    },
    {
     "data": {
      "image/png": "[encoded data removed]",
      "text/plain": [
       "<Figure size 640x480 with 1 Axes>"
      ]
     },
     "metadata": {},
     "output_type": "display_data"
    }
   ],
   "source": [
    "sns.distplot(a=df[\"Age\"]);"
   ]
  },
  {
   "cell_type": "code",
   "execution_count": 59,
   "id": "40b1813c-6f1c-43ee-871b-7cdecc2b3573",
   "metadata": {},
   "outputs": [
    {
     "data": {
      "image/png": "[encoded data removed]",
      "text/plain": [
       "<Figure size 640x480 with 1 Axes>"
      ]
     },
     "metadata": {},
     "output_type": "display_data"
    }
   ],
   "source": [
    "sns.countplot(x='House_Ownership', hue='Risk_Flag', data=df);"
   ]
  },
  {
   "cell_type": "code",
   "execution_count": 60,
   "id": "5f2a63cc-d72f-427c-8e60-a39e617571b7",
   "metadata": {},
   "outputs": [
    {
     "data": {
      "image/png": "[encoded data removed]",
      "text/plain": [
       "<Figure size 640x480 with 1 Axes>"
      ]
     },
     "metadata": {},
     "output_type": "display_data"
    }
   ],
   "source": [
    "sns.countplot(x='Car_Ownership', hue='Risk_Flag', data=df);"
   ]
  },
  {
   "cell_type": "code",
   "execution_count": 61,
   "id": "5fa54f02-d480-4dcb-bf2e-6954086db1f3",
   "metadata": {},
   "outputs": [
    {
     "data": {
      "image/png": "[encoded data removed]",
      "text/plain": [
       "<Figure size 640x480 with 1 Axes>"
      ]
     },
     "metadata": {},
     "output_type": "display_data"
    }
   ],
   "source": [
    "sns.countplot(x='Married/Single', hue='Risk_Flag', data=df);"
   ]
  },
  {
   "cell_type": "code",
   "execution_count": 62,
   "id": "55c7a73b-575b-42a6-885d-7634cb0d416b",
   "metadata": {},
   "outputs": [
    {
     "name": "stderr",
     "output_type": "stream",
     "text": [
      "C:\\Users\\Asus\\AppData\\Local\\Temp\\ipykernel_67248\\4075653490.py:1: UserWarning: \n",
      "\n",
      "`distplot` is a deprecated function and will be removed in seaborn v0.14.0.\n",
      "\n",
      "Please adapt your code to use either `displot` (a figure-level function with\n",
      "similar flexibility) or `histplot` (an axes-level function for histograms).\n",
      "\n",
      "For a guide to updating your code to use the new functions, please see\n",
      "https://gist.github.com/mwaskom/de44147ed2974457ad6372750bbe5751\n",
      "\n",
      "  sns.distplot(a=df[\"Income\"]);\n"
     ]
    },
    {
     "data": {
      "image/png": "[encoded data removed]",
      "text/plain": [
       "<Figure size 640x480 with 1 Axes>"
      ]
     },
     "metadata": {},
     "output_type": "display_data"
    }
   ],
   "source": [
    "sns.distplot(a=df[\"Income\"]);"
   ]
  },
  {
   "cell_type": "code",
   "execution_count": 70,
   "id": "f7c3c304-45f0-42ac-9ba9-704a7cb9661f",
   "metadata": {},
   "outputs": [
    {
     "data": {
      "image/png": "[encoded data removed]",
      "text/plain": [
       "<Figure size 640x480 with 2 Axes>"
      ]
     },
     "metadata": {},
     "output_type": "display_data"
    }
   ],
   "source": [
    "sns.heatmap(data.corr(), annot=True);"
   ]
  },
  {
   "cell_type": "code",
   "execution_count": 64,
   "id": "3b131988-07da-46b1-adb5-a90fb2b76e15",
   "metadata": {},
   "outputs": [
    {
     "name": "stdout",
     "output_type": "stream",
     "text": [
      "51\n",
      "29\n",
      "317\n"
     ]
    }
   ],
   "source": [
    "print(len(df.Profession.unique()))\n",
    "print(len(df.STATE.unique()))\n",
    "print(len(df.CITY.unique()))"
   ]
  },
  {
   "cell_type": "code",
   "execution_count": 65,
   "id": "a4651f90-b61c-4ea9-9e2c-4ecf6558c21e",
   "metadata": {},
   "outputs": [
    {
     "data": {
      "image/png": "[encoded data removed]",
      "text/plain": [
       "<Figure size 640x480 with 1 Axes>"
      ]
     },
     "metadata": {},
     "output_type": "display_data"
    }
   ],
   "source": [
    "r = df.groupby('Risk_Flag')['Risk_Flag'].count()\n",
    "plt.pie(r, explode=[0.05, 0.1], labels=['Non-Defaulter', 'Defaulter'], radius=1.5, autopct='%1.1f%%',  shadow=True);"
   ]
  },
  {
   "cell_type": "markdown",
   "id": "04e2e2fe-ea76-4ff5-8722-f4ef4900965c",
   "metadata": {},
   "source": [
    "### После визуализации данных можно увидеть ряд моментов:\n",
    "Класс 0 представляет 88,00% набора данных, а класс 1 — только 12,00%. Классы не уровновешены, нам нужно решить эту проблему\n",
    "В наборах данных нет выбросов. Но нам нужно масштабировать возраст и доход\n",
    "Сильная корреляция между Experience и CURRENT_JOB_YRS \n",
    "Семейное положение, налиие машины, владение домом представляют собой категориальные фичи, которые можно бинаризовать или закодировать с помощью one-hot-encoding\n",
    "\n"
   ]
  },
  {
   "cell_type": "code",
   "execution_count": 66,
   "id": "01eb70e3-7469-44bf-be95-30a459fc6af4",
   "metadata": {},
   "outputs": [
    {
     "data": {
      "text/html": [
       "<div>\n",
       "<style scoped>\n",
       "    .dataframe tbody tr th:only-of-type {\n",
       "        vertical-align: middle;\n",
       "    }\n",
       "\n",
       "    .dataframe tbody tr th {\n",
       "        vertical-align: top;\n",
       "    }\n",
       "\n",
       "    .dataframe thead th {\n",
       "        text-align: right;\n",
       "    }\n",
       "</style>\n",
       "<table border=\"1\" class=\"dataframe\">\n",
       "  <thead>\n",
       "    <tr style=\"text-align: right;\">\n",
       "      <th></th>\n",
       "      <th>CURRENT_JOB_YRS</th>\n",
       "      <th>Experience</th>\n",
       "    </tr>\n",
       "  </thead>\n",
       "  <tbody>\n",
       "    <tr>\n",
       "      <th>0</th>\n",
       "      <td>-0.914129</td>\n",
       "      <td>-1.180230</td>\n",
       "    </tr>\n",
       "    <tr>\n",
       "      <th>1</th>\n",
       "      <td>0.731035</td>\n",
       "      <td>-0.014067</td>\n",
       "    </tr>\n",
       "    <tr>\n",
       "      <th>2</th>\n",
       "      <td>-0.639935</td>\n",
       "      <td>-1.013635</td>\n",
       "    </tr>\n",
       "    <tr>\n",
       "      <th>3</th>\n",
       "      <td>-1.188323</td>\n",
       "      <td>-1.346825</td>\n",
       "    </tr>\n",
       "    <tr>\n",
       "      <th>4</th>\n",
       "      <td>-0.914129</td>\n",
       "      <td>0.152528</td>\n",
       "    </tr>\n",
       "    <tr>\n",
       "      <th>...</th>\n",
       "      <td>...</td>\n",
       "      <td>...</td>\n",
       "    </tr>\n",
       "    <tr>\n",
       "      <th>251995</th>\n",
       "      <td>-0.091547</td>\n",
       "      <td>0.485718</td>\n",
       "    </tr>\n",
       "    <tr>\n",
       "      <th>251996</th>\n",
       "      <td>-0.091547</td>\n",
       "      <td>-0.014067</td>\n",
       "    </tr>\n",
       "    <tr>\n",
       "      <th>251997</th>\n",
       "      <td>0.182647</td>\n",
       "      <td>-0.513851</td>\n",
       "    </tr>\n",
       "    <tr>\n",
       "      <th>251998</th>\n",
       "      <td>-1.736711</td>\n",
       "      <td>-1.680014</td>\n",
       "    </tr>\n",
       "    <tr>\n",
       "      <th>251999</th>\n",
       "      <td>0.182647</td>\n",
       "      <td>1.152097</td>\n",
       "    </tr>\n",
       "  </tbody>\n",
       "</table>\n",
       "<p>252000 rows × 2 columns</p>\n",
       "</div>"
      ],
      "text/plain": [
       "        CURRENT_JOB_YRS  Experience\n",
       "0             -0.914129   -1.180230\n",
       "1              0.731035   -0.014067\n",
       "2             -0.639935   -1.013635\n",
       "3             -1.188323   -1.346825\n",
       "4             -0.914129    0.152528\n",
       "...                 ...         ...\n",
       "251995        -0.091547    0.485718\n",
       "251996        -0.091547   -0.014067\n",
       "251997         0.182647   -0.513851\n",
       "251998        -1.736711   -1.680014\n",
       "251999         0.182647    1.152097\n",
       "\n",
       "[252000 rows x 2 columns]"
      ]
     },
     "execution_count": 66,
     "metadata": {},
     "output_type": "execute_result"
    }
   ],
   "source": [
    "features = [\"CURRENT_JOB_YRS\",\"Experience\"]\n",
    "\n",
    "df_for_pca = df[features]\n",
    "scaled_df_for_pca = (df_for_pca - df_for_pca.mean(axis=0))/df_for_pca.std()\n",
    "scaled_df_for_pca"
   ]
  },
  {
   "cell_type": "code",
   "execution_count": 68,
   "id": "820aa263-f266-48a6-91b5-652d8c8aac1a",
   "metadata": {},
   "outputs": [
    {
     "data": {
      "text/html": [
       "<div>\n",
       "<style scoped>\n",
       "    .dataframe tbody tr th:only-of-type {\n",
       "        vertical-align: middle;\n",
       "    }\n",
       "\n",
       "    .dataframe tbody tr th {\n",
       "        vertical-align: top;\n",
       "    }\n",
       "\n",
       "    .dataframe thead th {\n",
       "        text-align: right;\n",
       "    }\n",
       "</style>\n",
       "<table border=\"1\" class=\"dataframe\">\n",
       "  <thead>\n",
       "    <tr style=\"text-align: right;\">\n",
       "      <th></th>\n",
       "      <th>PC1</th>\n",
       "      <th>PC2</th>\n",
       "    </tr>\n",
       "  </thead>\n",
       "  <tbody>\n",
       "    <tr>\n",
       "      <th>0</th>\n",
       "      <td>-1.480935</td>\n",
       "      <td>-0.188162</td>\n",
       "    </tr>\n",
       "    <tr>\n",
       "      <th>1</th>\n",
       "      <td>0.506973</td>\n",
       "      <td>-0.526866</td>\n",
       "    </tr>\n",
       "    <tr>\n",
       "      <th>2</th>\n",
       "      <td>-1.169251</td>\n",
       "      <td>-0.264246</td>\n",
       "    </tr>\n",
       "    <tr>\n",
       "      <th>3</th>\n",
       "      <td>-1.792620</td>\n",
       "      <td>-0.112078</td>\n",
       "    </tr>\n",
       "    <tr>\n",
       "      <th>4</th>\n",
       "      <td>-0.538533</td>\n",
       "      <td>0.754240</td>\n",
       "    </tr>\n",
       "  </tbody>\n",
       "</table>\n",
       "</div>"
      ],
      "text/plain": [
       "        PC1       PC2\n",
       "0 -1.480935 -0.188162\n",
       "1  0.506973 -0.526866\n",
       "2 -1.169251 -0.264246\n",
       "3 -1.792620 -0.112078\n",
       "4 -0.538533  0.754240"
      ]
     },
     "execution_count": 68,
     "metadata": {},
     "output_type": "execute_result"
    }
   ],
   "source": [
    "from sklearn.decomposition import PCA\n",
    "\n",
    "pca = PCA()\n",
    "df_pca = pca.fit_transform(scaled_df_for_pca)\n",
    "component_names = [f\"PC{i+1}\" for i in range(df_pca.shape[1])]\n",
    "df_pca = pd.DataFrame(df_pca, columns=component_names)\n",
    "\n",
    "df_pca.head()"
   ]
  },
  {
   "cell_type": "code",
   "execution_count": 69,
   "id": "c0c679f7-d1bb-4cba-b151-21edfae53c50",
   "metadata": {},
   "outputs": [
    {
     "data": {
      "text/html": [
       "<div>\n",
       "<style scoped>\n",
       "    .dataframe tbody tr th:only-of-type {\n",
       "        vertical-align: middle;\n",
       "    }\n",
       "\n",
       "    .dataframe tbody tr th {\n",
       "        vertical-align: top;\n",
       "    }\n",
       "\n",
       "    .dataframe thead th {\n",
       "        text-align: right;\n",
       "    }\n",
       "</style>\n",
       "<table border=\"1\" class=\"dataframe\">\n",
       "  <thead>\n",
       "    <tr style=\"text-align: right;\">\n",
       "      <th></th>\n",
       "      <th>Id</th>\n",
       "      <th>Income</th>\n",
       "      <th>Age</th>\n",
       "      <th>Experience</th>\n",
       "      <th>Married/Single</th>\n",
       "      <th>House_Ownership</th>\n",
       "      <th>Car_Ownership</th>\n",
       "      <th>Profession</th>\n",
       "      <th>CITY</th>\n",
       "      <th>STATE</th>\n",
       "      <th>CURRENT_JOB_YRS</th>\n",
       "      <th>CURRENT_HOUSE_YRS</th>\n",
       "      <th>Risk_Flag</th>\n",
       "      <th>PC1</th>\n",
       "      <th>PC2</th>\n",
       "    </tr>\n",
       "  </thead>\n",
       "  <tbody>\n",
       "    <tr>\n",
       "      <th>0</th>\n",
       "      <td>1</td>\n",
       "      <td>1303834</td>\n",
       "      <td>23</td>\n",
       "      <td>3</td>\n",
       "      <td>single</td>\n",
       "      <td>rented</td>\n",
       "      <td>no</td>\n",
       "      <td>Mechanical_engineer</td>\n",
       "      <td>Rewa</td>\n",
       "      <td>Madhya_Pradesh</td>\n",
       "      <td>3</td>\n",
       "      <td>13</td>\n",
       "      <td>0</td>\n",
       "      <td>-1.480935</td>\n",
       "      <td>-0.188162</td>\n",
       "    </tr>\n",
       "    <tr>\n",
       "      <th>1</th>\n",
       "      <td>2</td>\n",
       "      <td>7574516</td>\n",
       "      <td>40</td>\n",
       "      <td>10</td>\n",
       "      <td>single</td>\n",
       "      <td>rented</td>\n",
       "      <td>no</td>\n",
       "      <td>Software_Developer</td>\n",
       "      <td>Parbhani</td>\n",
       "      <td>Maharashtra</td>\n",
       "      <td>9</td>\n",
       "      <td>13</td>\n",
       "      <td>0</td>\n",
       "      <td>0.506973</td>\n",
       "      <td>-0.526866</td>\n",
       "    </tr>\n",
       "    <tr>\n",
       "      <th>2</th>\n",
       "      <td>3</td>\n",
       "      <td>3991815</td>\n",
       "      <td>66</td>\n",
       "      <td>4</td>\n",
       "      <td>married</td>\n",
       "      <td>rented</td>\n",
       "      <td>no</td>\n",
       "      <td>Technical_writer</td>\n",
       "      <td>Alappuzha</td>\n",
       "      <td>Kerala</td>\n",
       "      <td>4</td>\n",
       "      <td>10</td>\n",
       "      <td>0</td>\n",
       "      <td>-1.169251</td>\n",
       "      <td>-0.264246</td>\n",
       "    </tr>\n",
       "    <tr>\n",
       "      <th>3</th>\n",
       "      <td>4</td>\n",
       "      <td>6256451</td>\n",
       "      <td>41</td>\n",
       "      <td>2</td>\n",
       "      <td>single</td>\n",
       "      <td>rented</td>\n",
       "      <td>yes</td>\n",
       "      <td>Software_Developer</td>\n",
       "      <td>Bhubaneswar</td>\n",
       "      <td>Odisha</td>\n",
       "      <td>2</td>\n",
       "      <td>12</td>\n",
       "      <td>1</td>\n",
       "      <td>-1.792620</td>\n",
       "      <td>-0.112078</td>\n",
       "    </tr>\n",
       "    <tr>\n",
       "      <th>4</th>\n",
       "      <td>5</td>\n",
       "      <td>5768871</td>\n",
       "      <td>47</td>\n",
       "      <td>11</td>\n",
       "      <td>single</td>\n",
       "      <td>rented</td>\n",
       "      <td>no</td>\n",
       "      <td>Civil_servant</td>\n",
       "      <td>Tiruchirappalli[10]</td>\n",
       "      <td>Tamil_Nadu</td>\n",
       "      <td>3</td>\n",
       "      <td>14</td>\n",
       "      <td>1</td>\n",
       "      <td>-0.538533</td>\n",
       "      <td>0.754240</td>\n",
       "    </tr>\n",
       "  </tbody>\n",
       "</table>\n",
       "</div>"
      ],
      "text/plain": [
       "   Id   Income  Age  Experience Married/Single House_Ownership Car_Ownership  \\\n",
       "0   1  1303834   23           3         single          rented            no   \n",
       "1   2  7574516   40          10         single          rented            no   \n",
       "2   3  3991815   66           4        married          rented            no   \n",
       "3   4  6256451   41           2         single          rented           yes   \n",
       "4   5  5768871   47          11         single          rented            no   \n",
       "\n",
       "            Profession                 CITY           STATE  CURRENT_JOB_YRS  \\\n",
       "0  Mechanical_engineer                 Rewa  Madhya_Pradesh                3   \n",
       "1   Software_Developer             Parbhani     Maharashtra                9   \n",
       "2     Technical_writer            Alappuzha          Kerala                4   \n",
       "3   Software_Developer          Bhubaneswar          Odisha                2   \n",
       "4        Civil_servant  Tiruchirappalli[10]      Tamil_Nadu                3   \n",
       "\n",
       "   CURRENT_HOUSE_YRS  Risk_Flag       PC1       PC2  \n",
       "0                 13          0 -1.480935 -0.188162  \n",
       "1                 13          0  0.506973 -0.526866  \n",
       "2                 10          0 -1.169251 -0.264246  \n",
       "3                 12          1 -1.792620 -0.112078  \n",
       "4                 14          1 -0.538533  0.754240  "
      ]
     },
     "execution_count": 69,
     "metadata": {},
     "output_type": "execute_result"
    }
   ],
   "source": [
    "df1 = pd.concat([df,df_pca],axis=1)\n",
    "df1.head()"
   ]
  },
  {
   "cell_type": "code",
   "execution_count": 71,
   "id": "f383c317-d061-40ca-9c00-eba4fe8badfc",
   "metadata": {},
   "outputs": [],
   "source": [
    "features = ['Married/Single','Car_Ownership','Profession','CITY','STATE']\n",
    "label_encoder = LabelEncoder()\n",
    "\n",
    "for col in features:\n",
    "    df1[col] = label_encoder.fit_transform(df1[col])"
   ]
  },
  {
   "cell_type": "code",
   "execution_count": 72,
   "id": "55c1d590-8eb4-4a11-ae2f-97bcab6afd86",
   "metadata": {},
   "outputs": [],
   "source": [
    "df2 = pd.get_dummies(df1, columns = [\"House_Ownership\"])\n",
    "df2.drop([\"Id\"],axis=1,inplace=True)"
   ]
  },
  {
   "cell_type": "code",
   "execution_count": 74,
   "id": "5cfa9962-2680-48d3-a43f-def3c1624a22",
   "metadata": {},
   "outputs": [
    {
     "data": {
      "text/html": [
       "<div>\n",
       "<style scoped>\n",
       "    .dataframe tbody tr th:only-of-type {\n",
       "        vertical-align: middle;\n",
       "    }\n",
       "\n",
       "    .dataframe tbody tr th {\n",
       "        vertical-align: top;\n",
       "    }\n",
       "\n",
       "    .dataframe thead th {\n",
       "        text-align: right;\n",
       "    }\n",
       "</style>\n",
       "<table border=\"1\" class=\"dataframe\">\n",
       "  <thead>\n",
       "    <tr style=\"text-align: right;\">\n",
       "      <th></th>\n",
       "      <th>Income</th>\n",
       "      <th>Age</th>\n",
       "      <th>Experience</th>\n",
       "      <th>Married/Single</th>\n",
       "      <th>Car_Ownership</th>\n",
       "      <th>Profession</th>\n",
       "      <th>CITY</th>\n",
       "      <th>STATE</th>\n",
       "      <th>CURRENT_JOB_YRS</th>\n",
       "      <th>CURRENT_HOUSE_YRS</th>\n",
       "      <th>PC1</th>\n",
       "      <th>PC2</th>\n",
       "      <th>House_Ownership_norent_noown</th>\n",
       "      <th>House_Ownership_owned</th>\n",
       "      <th>House_Ownership_rented</th>\n",
       "    </tr>\n",
       "  </thead>\n",
       "  <tbody>\n",
       "    <tr>\n",
       "      <th>157193</th>\n",
       "      <td>5421595</td>\n",
       "      <td>45</td>\n",
       "      <td>4</td>\n",
       "      <td>1</td>\n",
       "      <td>0</td>\n",
       "      <td>0</td>\n",
       "      <td>102</td>\n",
       "      <td>10</td>\n",
       "      <td>4</td>\n",
       "      <td>12</td>\n",
       "      <td>-1.169251</td>\n",
       "      <td>-0.264246</td>\n",
       "      <td>False</td>\n",
       "      <td>False</td>\n",
       "      <td>True</td>\n",
       "    </tr>\n",
       "    <tr>\n",
       "      <th>125307</th>\n",
       "      <td>7585042</td>\n",
       "      <td>53</td>\n",
       "      <td>15</td>\n",
       "      <td>1</td>\n",
       "      <td>0</td>\n",
       "      <td>35</td>\n",
       "      <td>252</td>\n",
       "      <td>7</td>\n",
       "      <td>3</td>\n",
       "      <td>13</td>\n",
       "      <td>-0.067332</td>\n",
       "      <td>1.225442</td>\n",
       "      <td>False</td>\n",
       "      <td>False</td>\n",
       "      <td>True</td>\n",
       "    </tr>\n",
       "    <tr>\n",
       "      <th>102075</th>\n",
       "      <td>3319389</td>\n",
       "      <td>35</td>\n",
       "      <td>5</td>\n",
       "      <td>1</td>\n",
       "      <td>1</td>\n",
       "      <td>17</td>\n",
       "      <td>174</td>\n",
       "      <td>19</td>\n",
       "      <td>5</td>\n",
       "      <td>11</td>\n",
       "      <td>-0.857566</td>\n",
       "      <td>-0.340330</td>\n",
       "      <td>False</td>\n",
       "      <td>False</td>\n",
       "      <td>True</td>\n",
       "    </tr>\n",
       "    <tr>\n",
       "      <th>235132</th>\n",
       "      <td>3880165</td>\n",
       "      <td>33</td>\n",
       "      <td>1</td>\n",
       "      <td>1</td>\n",
       "      <td>0</td>\n",
       "      <td>3</td>\n",
       "      <td>96</td>\n",
       "      <td>25</td>\n",
       "      <td>1</td>\n",
       "      <td>11</td>\n",
       "      <td>-2.104305</td>\n",
       "      <td>-0.035994</td>\n",
       "      <td>False</td>\n",
       "      <td>False</td>\n",
       "      <td>True</td>\n",
       "    </tr>\n",
       "    <tr>\n",
       "      <th>13524</th>\n",
       "      <td>2729670</td>\n",
       "      <td>23</td>\n",
       "      <td>10</td>\n",
       "      <td>1</td>\n",
       "      <td>0</td>\n",
       "      <td>3</td>\n",
       "      <td>264</td>\n",
       "      <td>23</td>\n",
       "      <td>10</td>\n",
       "      <td>13</td>\n",
       "      <td>0.700858</td>\n",
       "      <td>-0.720751</td>\n",
       "      <td>False</td>\n",
       "      <td>False</td>\n",
       "      <td>True</td>\n",
       "    </tr>\n",
       "  </tbody>\n",
       "</table>\n",
       "</div>"
      ],
      "text/plain": [
       "         Income  Age  Experience  Married/Single  Car_Ownership  Profession  \\\n",
       "157193  5421595   45           4               1              0           0   \n",
       "125307  7585042   53          15               1              0          35   \n",
       "102075  3319389   35           5               1              1          17   \n",
       "235132  3880165   33           1               1              0           3   \n",
       "13524   2729670   23          10               1              0           3   \n",
       "\n",
       "        CITY  STATE  CURRENT_JOB_YRS  CURRENT_HOUSE_YRS       PC1       PC2  \\\n",
       "157193   102     10                4                 12 -1.169251 -0.264246   \n",
       "125307   252      7                3                 13 -0.067332  1.225442   \n",
       "102075   174     19                5                 11 -0.857566 -0.340330   \n",
       "235132    96     25                1                 11 -2.104305 -0.035994   \n",
       "13524    264     23               10                 13  0.700858 -0.720751   \n",
       "\n",
       "        House_Ownership_norent_noown  House_Ownership_owned  \\\n",
       "157193                         False                  False   \n",
       "125307                         False                  False   \n",
       "102075                         False                  False   \n",
       "235132                         False                  False   \n",
       "13524                          False                  False   \n",
       "\n",
       "        House_Ownership_rented  \n",
       "157193                    True  \n",
       "125307                    True  \n",
       "102075                    True  \n",
       "235132                    True  \n",
       "13524                     True  "
      ]
     },
     "execution_count": 74,
     "metadata": {},
     "output_type": "execute_result"
    }
   ],
   "source": [
    "X = df2.drop(['Risk_Flag'],axis=1)\n",
    "y = df2.Risk_Flag\n",
    "X_train, X_test, y_train, y_test = train_test_split(X, y, test_size = 0.3, random_state = 0)\n",
    "X_train.head()"
   ]
  },
  {
   "cell_type": "code",
   "execution_count": 76,
   "id": "9e4a5c1c-cd9d-4cd0-8a39-4a36c61e4622",
   "metadata": {},
   "outputs": [],
   "source": [
    "from imblearn.over_sampling import SMOTE\n",
    "\n",
    "sm = SMOTE(random_state = 500)\n",
    "X_res, y_res = sm.fit_resample(X_train, y_train)"
   ]
  },
  {
   "cell_type": "markdown",
   "id": "dabc4a3c-f265-4ad6-969b-a2845ccd7a41",
   "metadata": {},
   "source": [
    "### Теперь данные готовы для применения модели машинного обучения"
   ]
  },
  {
   "cell_type": "markdown",
   "id": "224833cf-1663-40dd-aab0-5fc2af2801f9",
   "metadata": {},
   "source": [
    "### KNN"
   ]
  },
  {
   "cell_type": "code",
   "execution_count": 82,
   "id": "6b5396e1-173d-4001-b39b-34fa5828753b",
   "metadata": {},
   "outputs": [
    {
     "name": "stdout",
     "output_type": "stream",
     "text": [
      "Accuracy score\n",
      "0.859537037037037\n",
      "\n",
      "              precision    recall  f1-score   support\n",
      "\n",
      "           0       0.94      0.90      0.92     66338\n",
      "           1       0.44      0.57      0.50      9262\n",
      "\n",
      "    accuracy                           0.86     75600\n",
      "   macro avg       0.69      0.73      0.71     75600\n",
      "weighted avg       0.88      0.86      0.87     75600\n",
      "\n"
     ]
    }
   ],
   "source": [
    "knn = KNeighborsClassifier(n_neighbors=5,metric='minkowski',p=2)\n",
    "knn.fit(X_res, y_res)\n",
    "y_pred = knn.predict(X_test)\n",
    "\n",
    "print_evaluation(y_test, y_pred)"
   ]
  },
  {
   "cell_type": "markdown",
   "id": "01371e41-81de-4688-8887-651f626a4619",
   "metadata": {},
   "source": [
    "### Логистическая и линейная регрессия"
   ]
  },
  {
   "cell_type": "code",
   "execution_count": 84,
   "id": "7e5ee77e-dcbd-49f3-81ef-91cd0d29b17f",
   "metadata": {},
   "outputs": [
    {
     "name": "stdout",
     "output_type": "stream",
     "text": [
      "MSE score\n",
      "0.12251322751322752\n",
      "Accuracy score\n",
      "0.8774867724867725\n"
     ]
    }
   ],
   "source": [
    "model_2 = LogisticRegression(max_iter = 500000)\n",
    "model_2.fit(X_train,y_train)\n",
    "\n",
    "y_pred2 = model_2.predict(X_test)\n",
    "print_evaluation2(y_test, y_pred2)"
   ]
  },
  {
   "cell_type": "code",
   "execution_count": 85,
   "id": "a7081c28-7c7f-4a06-9d6c-bad75d5863e7",
   "metadata": {},
   "outputs": [
    {
     "name": "stdout",
     "output_type": "stream",
     "text": [
      "MSE score\n",
      "0.21646516176969344\n"
     ]
    }
   ],
   "source": [
    "model_3 = LinearRegression()\n",
    "model_3.fit(X_res,y_res)\n",
    "\n",
    "y_pred3 = model_3.predict(X_test)\n",
    "print(\"MSE score\")\n",
    "print(mean_squared_error(y_test, y_pred3))"
   ]
  },
  {
   "cell_type": "markdown",
   "id": "e0ba3d37-63af-4021-9626-ceda23b291dd",
   "metadata": {},
   "source": [
    "### Решающее дерево"
   ]
  },
  {
   "cell_type": "code",
   "execution_count": 86,
   "id": "de369799-1f38-4426-8f22-945477aa4a18",
   "metadata": {},
   "outputs": [
    {
     "name": "stdout",
     "output_type": "stream",
     "text": [
      "Accuracy score\n",
      "0.8671957671957672\n",
      "\n",
      "              precision    recall  f1-score   support\n",
      "\n",
      "           0       0.98      0.87      0.92     66338\n",
      "           1       0.48      0.85      0.61      9262\n",
      "\n",
      "    accuracy                           0.87     75600\n",
      "   macro avg       0.73      0.86      0.77     75600\n",
      "weighted avg       0.92      0.87      0.88     75600\n",
      "\n"
     ]
    }
   ],
   "source": [
    "model_4 = DecisionTreeClassifier(criterion=\"entropy\",random_state=420)\n",
    "model_4.fit(X_res, y_res)\n",
    "y_pred4 = model_4.predict(X_test)\n",
    "print_evaluation(y_test, y_pred4)"
   ]
  },
  {
   "cell_type": "markdown",
   "id": "6981533a-0989-44d8-bb8f-2d6de1a97a28",
   "metadata": {},
   "source": [
    "### Случайный лес"
   ]
  },
  {
   "cell_type": "code",
   "execution_count": 87,
   "id": "c9e117b5-5ec2-4895-8e4b-73fa9b57b793",
   "metadata": {},
   "outputs": [
    {
     "name": "stdout",
     "output_type": "stream",
     "text": [
      "Accuracy score\n",
      "0.8832936507936507\n",
      "\n",
      "              precision    recall  f1-score   support\n",
      "\n",
      "           0       0.97      0.89      0.93     66338\n",
      "           1       0.52      0.81      0.63      9262\n",
      "\n",
      "    accuracy                           0.88     75600\n",
      "   macro avg       0.74      0.85      0.78     75600\n",
      "weighted avg       0.91      0.88      0.89     75600\n",
      "\n"
     ]
    }
   ],
   "source": [
    "model_5 = RandomForestClassifier(criterion='gini', bootstrap=True, random_state=420)\n",
    "model_5.fit(X_res, y_res)\n",
    "y_pred5 = model_5.predict(X_test)\n",
    "print_evaluation(y_test, y_pred5)"
   ]
  },
  {
   "cell_type": "markdown",
   "id": "76f13a18-016c-4752-a106-f48eed510b90",
   "metadata": {},
   "source": [
    "### Градиентный бустинг"
   ]
  },
  {
   "cell_type": "code",
   "execution_count": 90,
   "id": "bdd578f8-69ff-496e-9b19-8695e56a16b2",
   "metadata": {},
   "outputs": [
    {
     "name": "stdout",
     "output_type": "stream",
     "text": [
      "Accuracy score\n",
      "0.5687698412698413\n",
      "\n",
      "              precision    recall  f1-score   support\n",
      "\n",
      "           0       0.88      0.59      0.70     66338\n",
      "           1       0.13      0.45      0.20      9262\n",
      "\n",
      "    accuracy                           0.57     75600\n",
      "   macro avg       0.51      0.52      0.45     75600\n",
      "weighted avg       0.79      0.57      0.64     75600\n",
      "\n"
     ]
    }
   ],
   "source": [
    "model_6 = GradientBoostingClassifier(n_estimators=100, learning_rate=0.1, random_state=42)\n",
    "model_6.fit(X_res, y_res)\n",
    "y_pred6 = model.predict(X_test)\n",
    "print_evaluation(y_test, y_pred6)"
   ]
  },
  {
   "cell_type": "markdown",
   "id": "cf28784f-e157-42e4-b57e-ffbaae55d68f",
   "metadata": {},
   "source": [
    "### Как видно из сравнения результатов, все модели, за исключением градиентного бустинга, показали одинаковые или лучшие точности на улучшенным бейзлайне, а это значит, что препроцессинг оказался удачным"
   ]
  },
  {
   "cell_type": "markdown",
   "id": "5945ed3a-c240-4fc7-a370-b4c2aa160188",
   "metadata": {},
   "source": [
    "# 4. Имплементация алгоритмов машинного обучения"
   ]
  },
  {
   "cell_type": "code",
   "execution_count": 139,
   "id": "ec046ac8-e6b1-42e6-8863-b305efc55304",
   "metadata": {},
   "outputs": [
    {
     "data": {
      "text/html": [
       "<div>\n",
       "<style scoped>\n",
       "    .dataframe tbody tr th:only-of-type {\n",
       "        vertical-align: middle;\n",
       "    }\n",
       "\n",
       "    .dataframe tbody tr th {\n",
       "        vertical-align: top;\n",
       "    }\n",
       "\n",
       "    .dataframe thead th {\n",
       "        text-align: right;\n",
       "    }\n",
       "</style>\n",
       "<table border=\"1\" class=\"dataframe\">\n",
       "  <thead>\n",
       "    <tr style=\"text-align: right;\">\n",
       "      <th></th>\n",
       "      <th>Id</th>\n",
       "      <th>Income</th>\n",
       "      <th>Age</th>\n",
       "      <th>Experience</th>\n",
       "      <th>Married/Single</th>\n",
       "      <th>House_Ownership</th>\n",
       "      <th>Car_Ownership</th>\n",
       "      <th>Profession</th>\n",
       "      <th>CITY</th>\n",
       "      <th>STATE</th>\n",
       "      <th>CURRENT_JOB_YRS</th>\n",
       "      <th>CURRENT_HOUSE_YRS</th>\n",
       "      <th>Risk_Flag</th>\n",
       "    </tr>\n",
       "  </thead>\n",
       "  <tbody>\n",
       "    <tr>\n",
       "      <th>0</th>\n",
       "      <td>1</td>\n",
       "      <td>1303834</td>\n",
       "      <td>23</td>\n",
       "      <td>3</td>\n",
       "      <td>single</td>\n",
       "      <td>rented</td>\n",
       "      <td>no</td>\n",
       "      <td>Mechanical_engineer</td>\n",
       "      <td>Rewa</td>\n",
       "      <td>Madhya_Pradesh</td>\n",
       "      <td>3</td>\n",
       "      <td>13</td>\n",
       "      <td>0</td>\n",
       "    </tr>\n",
       "    <tr>\n",
       "      <th>1</th>\n",
       "      <td>2</td>\n",
       "      <td>7574516</td>\n",
       "      <td>40</td>\n",
       "      <td>10</td>\n",
       "      <td>single</td>\n",
       "      <td>rented</td>\n",
       "      <td>no</td>\n",
       "      <td>Software_Developer</td>\n",
       "      <td>Parbhani</td>\n",
       "      <td>Maharashtra</td>\n",
       "      <td>9</td>\n",
       "      <td>13</td>\n",
       "      <td>0</td>\n",
       "    </tr>\n",
       "    <tr>\n",
       "      <th>2</th>\n",
       "      <td>3</td>\n",
       "      <td>3991815</td>\n",
       "      <td>66</td>\n",
       "      <td>4</td>\n",
       "      <td>married</td>\n",
       "      <td>rented</td>\n",
       "      <td>no</td>\n",
       "      <td>Technical_writer</td>\n",
       "      <td>Alappuzha</td>\n",
       "      <td>Kerala</td>\n",
       "      <td>4</td>\n",
       "      <td>10</td>\n",
       "      <td>0</td>\n",
       "    </tr>\n",
       "    <tr>\n",
       "      <th>3</th>\n",
       "      <td>4</td>\n",
       "      <td>6256451</td>\n",
       "      <td>41</td>\n",
       "      <td>2</td>\n",
       "      <td>single</td>\n",
       "      <td>rented</td>\n",
       "      <td>yes</td>\n",
       "      <td>Software_Developer</td>\n",
       "      <td>Bhubaneswar</td>\n",
       "      <td>Odisha</td>\n",
       "      <td>2</td>\n",
       "      <td>12</td>\n",
       "      <td>1</td>\n",
       "    </tr>\n",
       "    <tr>\n",
       "      <th>4</th>\n",
       "      <td>5</td>\n",
       "      <td>5768871</td>\n",
       "      <td>47</td>\n",
       "      <td>11</td>\n",
       "      <td>single</td>\n",
       "      <td>rented</td>\n",
       "      <td>no</td>\n",
       "      <td>Civil_servant</td>\n",
       "      <td>Tiruchirappalli[10]</td>\n",
       "      <td>Tamil_Nadu</td>\n",
       "      <td>3</td>\n",
       "      <td>14</td>\n",
       "      <td>1</td>\n",
       "    </tr>\n",
       "  </tbody>\n",
       "</table>\n",
       "</div>"
      ],
      "text/plain": [
       "   Id   Income  Age  Experience Married/Single House_Ownership Car_Ownership  \\\n",
       "0   1  1303834   23           3         single          rented            no   \n",
       "1   2  7574516   40          10         single          rented            no   \n",
       "2   3  3991815   66           4        married          rented            no   \n",
       "3   4  6256451   41           2         single          rented           yes   \n",
       "4   5  5768871   47          11         single          rented            no   \n",
       "\n",
       "            Profession                 CITY           STATE  CURRENT_JOB_YRS  \\\n",
       "0  Mechanical_engineer                 Rewa  Madhya_Pradesh                3   \n",
       "1   Software_Developer             Parbhani     Maharashtra                9   \n",
       "2     Technical_writer            Alappuzha          Kerala                4   \n",
       "3   Software_Developer          Bhubaneswar          Odisha                2   \n",
       "4        Civil_servant  Tiruchirappalli[10]      Tamil_Nadu                3   \n",
       "\n",
       "   CURRENT_HOUSE_YRS  Risk_Flag  \n",
       "0                 13          0  \n",
       "1                 13          0  \n",
       "2                 10          0  \n",
       "3                 12          1  \n",
       "4                 14          1  "
      ]
     },
     "execution_count": 139,
     "metadata": {},
     "output_type": "execute_result"
    }
   ],
   "source": [
    "data = pd.read_csv('loan-prediction-based-on-customer-behavior/Training Data.csv')\n",
    "data.head(5)"
   ]
  },
  {
   "cell_type": "code",
   "execution_count": 140,
   "id": "1fa52d2c-d865-4b1a-9f2b-417632e1f139",
   "metadata": {},
   "outputs": [],
   "source": [
    "label_encoders = {}\n",
    "for column in data.select_dtypes(include=\"object\").columns:\n",
    "    le = LabelEncoder()\n",
    "    data[column] = le.fit_transform(data[column])\n",
    "    label_encoders[column] = le\n"
   ]
  },
  {
   "cell_type": "code",
   "execution_count": 219,
   "id": "cbb525b8-757d-437a-a317-adaa1eab91ea",
   "metadata": {},
   "outputs": [
    {
     "name": "stdout",
     "output_type": "stream",
     "text": [
      "(239400, 11) (12600, 11)\n",
      "(239400,) (12600,)\n"
     ]
    }
   ],
   "source": [
    "X = data.drop(['Id', 'Risk_Flag'], axis=1)\n",
    "y = data['Risk_Flag']\n",
    "\n",
    "X_train, X_test, y_train, y_test = train_test_split(X, y, test_size=0.05, random_state=42)\n",
    "\n",
    "#print_evaluation(y_test, y_pred)\n",
    "print(X_train.shape, X_test.shape)\n",
    "print(y_train.shape, y_test.shape)\n"
   ]
  },
  {
   "cell_type": "code",
   "execution_count": 220,
   "id": "9b491f22-9485-49ce-9401-defeca3edaa6",
   "metadata": {},
   "outputs": [
    {
     "data": {
      "text/html": [
       "<div>\n",
       "<style scoped>\n",
       "    .dataframe tbody tr th:only-of-type {\n",
       "        vertical-align: middle;\n",
       "    }\n",
       "\n",
       "    .dataframe tbody tr th {\n",
       "        vertical-align: top;\n",
       "    }\n",
       "\n",
       "    .dataframe thead th {\n",
       "        text-align: right;\n",
       "    }\n",
       "</style>\n",
       "<table border=\"1\" class=\"dataframe\">\n",
       "  <thead>\n",
       "    <tr style=\"text-align: right;\">\n",
       "      <th></th>\n",
       "      <th>Income</th>\n",
       "      <th>Age</th>\n",
       "      <th>Experience</th>\n",
       "      <th>Married/Single</th>\n",
       "      <th>House_Ownership</th>\n",
       "      <th>Car_Ownership</th>\n",
       "      <th>Profession</th>\n",
       "      <th>CITY</th>\n",
       "      <th>STATE</th>\n",
       "      <th>CURRENT_JOB_YRS</th>\n",
       "      <th>CURRENT_HOUSE_YRS</th>\n",
       "    </tr>\n",
       "  </thead>\n",
       "  <tbody>\n",
       "    <tr>\n",
       "      <th>69192</th>\n",
       "      <td>667691</td>\n",
       "      <td>40</td>\n",
       "      <td>20</td>\n",
       "      <td>0</td>\n",
       "      <td>2</td>\n",
       "      <td>0</td>\n",
       "      <td>35</td>\n",
       "      <td>208</td>\n",
       "      <td>0</td>\n",
       "      <td>13</td>\n",
       "      <td>13</td>\n",
       "    </tr>\n",
       "    <tr>\n",
       "      <th>59685</th>\n",
       "      <td>3148837</td>\n",
       "      <td>37</td>\n",
       "      <td>17</td>\n",
       "      <td>1</td>\n",
       "      <td>2</td>\n",
       "      <td>1</td>\n",
       "      <td>40</td>\n",
       "      <td>42</td>\n",
       "      <td>2</td>\n",
       "      <td>13</td>\n",
       "      <td>13</td>\n",
       "    </tr>\n",
       "    <tr>\n",
       "      <th>118918</th>\n",
       "      <td>2966871</td>\n",
       "      <td>78</td>\n",
       "      <td>7</td>\n",
       "      <td>0</td>\n",
       "      <td>2</td>\n",
       "      <td>0</td>\n",
       "      <td>32</td>\n",
       "      <td>229</td>\n",
       "      <td>2</td>\n",
       "      <td>3</td>\n",
       "      <td>11</td>\n",
       "    </tr>\n",
       "    <tr>\n",
       "      <th>101913</th>\n",
       "      <td>1951736</td>\n",
       "      <td>72</td>\n",
       "      <td>12</td>\n",
       "      <td>1</td>\n",
       "      <td>2</td>\n",
       "      <td>1</td>\n",
       "      <td>7</td>\n",
       "      <td>40</td>\n",
       "      <td>17</td>\n",
       "      <td>11</td>\n",
       "      <td>11</td>\n",
       "    </tr>\n",
       "    <tr>\n",
       "      <th>115009</th>\n",
       "      <td>140516</td>\n",
       "      <td>29</td>\n",
       "      <td>19</td>\n",
       "      <td>1</td>\n",
       "      <td>2</td>\n",
       "      <td>0</td>\n",
       "      <td>39</td>\n",
       "      <td>311</td>\n",
       "      <td>22</td>\n",
       "      <td>14</td>\n",
       "      <td>10</td>\n",
       "    </tr>\n",
       "    <tr>\n",
       "      <th>...</th>\n",
       "      <td>...</td>\n",
       "      <td>...</td>\n",
       "      <td>...</td>\n",
       "      <td>...</td>\n",
       "      <td>...</td>\n",
       "      <td>...</td>\n",
       "      <td>...</td>\n",
       "      <td>...</td>\n",
       "      <td>...</td>\n",
       "      <td>...</td>\n",
       "      <td>...</td>\n",
       "    </tr>\n",
       "    <tr>\n",
       "      <th>137769</th>\n",
       "      <td>4324181</td>\n",
       "      <td>21</td>\n",
       "      <td>11</td>\n",
       "      <td>1</td>\n",
       "      <td>2</td>\n",
       "      <td>0</td>\n",
       "      <td>3</td>\n",
       "      <td>245</td>\n",
       "      <td>23</td>\n",
       "      <td>11</td>\n",
       "      <td>11</td>\n",
       "    </tr>\n",
       "    <tr>\n",
       "      <th>31328</th>\n",
       "      <td>7622856</td>\n",
       "      <td>59</td>\n",
       "      <td>5</td>\n",
       "      <td>1</td>\n",
       "      <td>1</td>\n",
       "      <td>0</td>\n",
       "      <td>30</td>\n",
       "      <td>291</td>\n",
       "      <td>22</td>\n",
       "      <td>5</td>\n",
       "      <td>11</td>\n",
       "    </tr>\n",
       "    <tr>\n",
       "      <th>99365</th>\n",
       "      <td>1080039</td>\n",
       "      <td>66</td>\n",
       "      <td>18</td>\n",
       "      <td>1</td>\n",
       "      <td>2</td>\n",
       "      <td>0</td>\n",
       "      <td>40</td>\n",
       "      <td>45</td>\n",
       "      <td>28</td>\n",
       "      <td>11</td>\n",
       "      <td>10</td>\n",
       "    </tr>\n",
       "    <tr>\n",
       "      <th>102218</th>\n",
       "      <td>1464792</td>\n",
       "      <td>65</td>\n",
       "      <td>10</td>\n",
       "      <td>1</td>\n",
       "      <td>1</td>\n",
       "      <td>0</td>\n",
       "      <td>48</td>\n",
       "      <td>107</td>\n",
       "      <td>13</td>\n",
       "      <td>10</td>\n",
       "      <td>12</td>\n",
       "    </tr>\n",
       "    <tr>\n",
       "      <th>171260</th>\n",
       "      <td>6427114</td>\n",
       "      <td>71</td>\n",
       "      <td>12</td>\n",
       "      <td>1</td>\n",
       "      <td>2</td>\n",
       "      <td>0</td>\n",
       "      <td>8</td>\n",
       "      <td>178</td>\n",
       "      <td>22</td>\n",
       "      <td>4</td>\n",
       "      <td>10</td>\n",
       "    </tr>\n",
       "  </tbody>\n",
       "</table>\n",
       "<p>11970 rows × 11 columns</p>\n",
       "</div>"
      ],
      "text/plain": [
       "         Income  Age  Experience  Married/Single  House_Ownership  \\\n",
       "69192    667691   40          20               0                2   \n",
       "59685   3148837   37          17               1                2   \n",
       "118918  2966871   78           7               0                2   \n",
       "101913  1951736   72          12               1                2   \n",
       "115009   140516   29          19               1                2   \n",
       "...         ...  ...         ...             ...              ...   \n",
       "137769  4324181   21          11               1                2   \n",
       "31328   7622856   59           5               1                1   \n",
       "99365   1080039   66          18               1                2   \n",
       "102218  1464792   65          10               1                1   \n",
       "171260  6427114   71          12               1                2   \n",
       "\n",
       "        Car_Ownership  Profession  CITY  STATE  CURRENT_JOB_YRS  \\\n",
       "69192               0          35   208      0               13   \n",
       "59685               1          40    42      2               13   \n",
       "118918              0          32   229      2                3   \n",
       "101913              1           7    40     17               11   \n",
       "115009              0          39   311     22               14   \n",
       "...               ...         ...   ...    ...              ...   \n",
       "137769              0           3   245     23               11   \n",
       "31328               0          30   291     22                5   \n",
       "99365               0          40    45     28               11   \n",
       "102218              0          48   107     13               10   \n",
       "171260              0           8   178     22                4   \n",
       "\n",
       "        CURRENT_HOUSE_YRS  \n",
       "69192                  13  \n",
       "59685                  13  \n",
       "118918                 11  \n",
       "101913                 11  \n",
       "115009                 10  \n",
       "...                   ...  \n",
       "137769                 11  \n",
       "31328                  11  \n",
       "99365                  10  \n",
       "102218                 12  \n",
       "171260                 10  \n",
       "\n",
       "[11970 rows x 11 columns]"
      ]
     },
     "execution_count": 220,
     "metadata": {},
     "output_type": "execute_result"
    }
   ],
   "source": [
    "X_train_small = X_train.sample(frac=0.05, random_state=42)\n",
    "y_train_small = y_train.loc[X_train_small.index]\n",
    "X_train_small"
   ]
  },
  {
   "cell_type": "markdown",
   "id": "b27f757b-d1e6-48d2-bede-7598b563747c",
   "metadata": {},
   "source": [
    "### KNN"
   ]
  },
  {
   "cell_type": "code",
   "execution_count": 201,
   "id": "00313c6a-c0b2-4590-9ff6-612d64a047aa",
   "metadata": {},
   "outputs": [],
   "source": [
    "from scipy.spatial import distance\n",
    "\n",
    "class KNNClassifier:\n",
    "    def __init__(self, k=3):\n",
    "        self.k = k\n",
    "\n",
    "    def fit(self, X, y):\n",
    "        self.X_train = X\n",
    "        self.y_train = y\n",
    "\n",
    "    def predict(self, X):\n",
    "        predictions = []\n",
    "        # Используем scipy для ускорения вычислений\n",
    "        for x in X.values:\n",
    "            distances = distance.cdist(self.X_train.values, [x], metric='euclidean').ravel()\n",
    "            k_indices = distances.argsort()[:self.k]\n",
    "            k_labels = self.y_train.iloc[k_indices]\n",
    "            most_common = k_labels.mode()[0]\n",
    "            predictions.append(most_common)\n",
    "        return np.array(predictions)\n"
   ]
  },
  {
   "cell_type": "code",
   "execution_count": 163,
   "id": "6c08c893-6223-44a4-85b6-233f005ea1de",
   "metadata": {},
   "outputs": [],
   "source": [
    "knn = KNNClassifier(k=5)\n",
    "knn.fit(X_train_small, y_train_small)\n",
    "y_pred = knn.predict(X_test)"
   ]
  },
  {
   "cell_type": "code",
   "execution_count": 164,
   "id": "aa137633-c0e1-4fc1-8237-bebb5596c19f",
   "metadata": {},
   "outputs": [
    {
     "name": "stdout",
     "output_type": "stream",
     "text": [
      "Accuracy score\n",
      "0.8593650793650793\n",
      "\n",
      "              precision    recall  f1-score   support\n",
      "\n",
      "           0       0.89      0.96      0.92     11051\n",
      "           1       0.31      0.12      0.17      1549\n",
      "\n",
      "    accuracy                           0.86     12600\n",
      "   macro avg       0.60      0.54      0.55     12600\n",
      "weighted avg       0.82      0.86      0.83     12600\n",
      "\n"
     ]
    }
   ],
   "source": [
    "print_evaluation(y_test, y_pred)"
   ]
  },
  {
   "cell_type": "markdown",
   "id": "5531ae41-ea46-4227-9c1f-59ba373d3f7b",
   "metadata": {},
   "source": [
    "### Логистическая и линейная регрессия"
   ]
  },
  {
   "cell_type": "code",
   "execution_count": 168,
   "id": "2e6bbae5-6352-4665-8b14-f4b80503e29b",
   "metadata": {},
   "outputs": [],
   "source": [
    "class LogisticRegression:\n",
    "    def __init__(self, lr=0.01, num_iter=1000):\n",
    "        self.lr = lr\n",
    "        self.num_iter = num_iter\n",
    "        self.weights = None\n",
    "        self.bias = None\n",
    "\n",
    "    def sigmoid(self, z):\n",
    "       return np.where(z >= 0, \n",
    "                    1 / (1 + np.exp(-z)), \n",
    "                    np.exp(z) / (1 + np.exp(z)))\n",
    "\n",
    "    def fit(self, X, y):\n",
    "        n_samples, n_features = X.shape\n",
    "        self.weights = np.zeros(n_features)\n",
    "        self.bias = 0\n",
    "\n",
    "        # Градиентный спуск\n",
    "        for _ in range(self.num_iter):\n",
    "            linear_model = np.dot(X, self.weights) + self.bias\n",
    "            y_pred = self.sigmoid(linear_model)\n",
    "\n",
    "            dw = (1 / n_samples) * np.dot(X.T, (y_pred - y))\n",
    "            db = (1 / n_samples) * np.sum(y_pred - y)\n",
    "\n",
    "            self.weights -= self.lr * dw\n",
    "            self.bias -= self.lr * db\n",
    "\n",
    "    def predict(self, X):\n",
    "        linear_model = np.dot(X, self.weights) + self.bias\n",
    "        y_pred = self.sigmoid(linear_model)\n",
    "        y_pred_class = [1 if i > 0.5 else 0 for i in y_pred]\n",
    "        return np.array(y_pred_class)"
   ]
  },
  {
   "cell_type": "code",
   "execution_count": 171,
   "id": "6dbe309c-d8b5-4c2d-b930-8879bf366327",
   "metadata": {},
   "outputs": [],
   "source": [
    "scaler = StandardScaler()\n",
    "X_scaled = scaler.fit_transform(X_train_small)"
   ]
  },
  {
   "cell_type": "code",
   "execution_count": 172,
   "id": "aea5b451-a97f-478b-ba26-a206b6775cac",
   "metadata": {},
   "outputs": [
    {
     "name": "stdout",
     "output_type": "stream",
     "text": [
      "Accuracy score\n",
      "0.8770634920634921\n",
      "\n",
      "              precision    recall  f1-score   support\n",
      "\n",
      "           0       0.88      1.00      0.93     11051\n",
      "           1       0.00      0.00      0.00      1549\n",
      "\n",
      "    accuracy                           0.88     12600\n",
      "   macro avg       0.44      0.50      0.47     12600\n",
      "weighted avg       0.77      0.88      0.82     12600\n",
      "\n"
     ]
    },
    {
     "name": "stderr",
     "output_type": "stream",
     "text": [
      "C:\\Users\\Asus\\anaconda3\\Lib\\site-packages\\sklearn\\metrics\\_classification.py:1531: UndefinedMetricWarning: Precision is ill-defined and being set to 0.0 in labels with no predicted samples. Use `zero_division` parameter to control this behavior.\n",
      "  _warn_prf(average, modifier, f\"{metric.capitalize()} is\", len(result))\n",
      "C:\\Users\\Asus\\anaconda3\\Lib\\site-packages\\sklearn\\metrics\\_classification.py:1531: UndefinedMetricWarning: Precision is ill-defined and being set to 0.0 in labels with no predicted samples. Use `zero_division` parameter to control this behavior.\n",
      "  _warn_prf(average, modifier, f\"{metric.capitalize()} is\", len(result))\n",
      "C:\\Users\\Asus\\anaconda3\\Lib\\site-packages\\sklearn\\metrics\\_classification.py:1531: UndefinedMetricWarning: Precision is ill-defined and being set to 0.0 in labels with no predicted samples. Use `zero_division` parameter to control this behavior.\n",
      "  _warn_prf(average, modifier, f\"{metric.capitalize()} is\", len(result))\n"
     ]
    }
   ],
   "source": [
    "logistic_model = LogisticRegression()\n",
    "logistic_model.fit(X_scaled, y_train_small)\n",
    "y_pred = logistic_model.predict(X_test)\n",
    "print_evaluation(y_test, y_pred)"
   ]
  },
  {
   "cell_type": "code",
   "execution_count": 173,
   "id": "46dbf0ae-5a87-46fd-996c-54c729367c7d",
   "metadata": {},
   "outputs": [],
   "source": [
    "class LinearRegression:\n",
    "    def __init__(self, lr=0.01, num_iter=1000):\n",
    "        self.lr = lr\n",
    "        self.num_iter = num_iter\n",
    "        self.weights = None\n",
    "        self.bias = None\n",
    "\n",
    "    def fit(self, X, y):\n",
    "        n_samples, n_features = X.shape\n",
    "        self.weights = np.zeros(n_features)\n",
    "        self.bias = 0\n",
    "\n",
    "        # Градиентный спуск\n",
    "        for _ in range(self.num_iter):\n",
    "            y_pred = np.dot(X, self.weights) + self.bias\n",
    "            dw = (1 / n_samples) * np.dot(X.T, (y_pred - y))\n",
    "            db = (1 / n_samples) * np.sum(y_pred - y)\n",
    "\n",
    "            self.weights -= self.lr * dw\n",
    "            self.bias -= self.lr * db\n",
    "\n",
    "    def predict(self, X):\n",
    "        return np.dot(X, self.weights) + self.bias"
   ]
  },
  {
   "cell_type": "code",
   "execution_count": 174,
   "id": "fec42521-f100-4671-9e53-44d79f108d20",
   "metadata": {},
   "outputs": [],
   "source": [
    "X_test_scaled = scaler.fit_transform(X_test)"
   ]
  },
  {
   "cell_type": "code",
   "execution_count": 175,
   "id": "d492c2d5-97fc-45a6-9226-f8d3062c6673",
   "metadata": {},
   "outputs": [
    {
     "name": "stdout",
     "output_type": "stream",
     "text": [
      "Linear Regression MSE:\n",
      "0.12293650793650794\n"
     ]
    }
   ],
   "source": [
    "linear_model = LogisticRegression()\n",
    "linear_model.fit(X_scaled, y_train_small)\n",
    "y_pred = linear_model.predict(X_test_scaled)\n",
    "print(\"Linear Regression MSE:\")\n",
    "print(mean_squared_error(y_test, y_pred))"
   ]
  },
  {
   "cell_type": "markdown",
   "id": "7749f8fd-b1b1-4d10-a07c-b65d10cc0425",
   "metadata": {},
   "source": [
    "### Решающее дерево"
   ]
  },
  {
   "cell_type": "code",
   "execution_count": 176,
   "id": "ed5f4e0a-eb29-46f7-ad53-7d94aede648e",
   "metadata": {},
   "outputs": [],
   "source": [
    "class DecisionTree:\n",
    "    def __init__(self, max_depth=5):\n",
    "        self.max_depth = max_depth\n",
    "        self.tree = None\n",
    "\n",
    "    def _gini(self, y):\n",
    "        # Считаем Gini impurity\n",
    "        classes = np.unique(y)\n",
    "        gini = 1.0\n",
    "        for cls in classes:\n",
    "            p_cls = np.sum(y == cls) / len(y)\n",
    "            gini -= p_cls**2\n",
    "        return gini\n",
    "\n",
    "    def _split(self, X, y, feature, threshold):\n",
    "        # Разделяем данные по признаку и порогу\n",
    "        left_idx = X[:, feature] <= threshold\n",
    "        right_idx = X[:, feature] > threshold\n",
    "        return X[left_idx], X[right_idx], y[left_idx], y[right_idx]\n",
    "\n",
    "    def _best_split(self, X, y):\n",
    "        # Ищем лучший признак и порог для разбиения\n",
    "        n_samples, n_features = X.shape\n",
    "        best_gini = float('inf')\n",
    "        best_feature, best_threshold = None, None\n",
    "\n",
    "        for feature in range(n_features):\n",
    "            thresholds = np.unique(X[:, feature])\n",
    "            for threshold in thresholds:\n",
    "                _, _, y_left, y_right = self._split(X, y, feature, threshold)\n",
    "                if len(y_left) == 0 or len(y_right) == 0:\n",
    "                    continue\n",
    "\n",
    "                gini = (len(y_left) / n_samples) * self._gini(y_left) + \\\n",
    "                       (len(y_right) / n_samples) * self._gini(y_right)\n",
    "                \n",
    "                if gini < best_gini:\n",
    "                    best_gini = gini\n",
    "                    best_feature, best_threshold = feature, threshold\n",
    "\n",
    "        return best_feature, best_threshold\n",
    "\n",
    "    def _build_tree(self, X, y, depth):\n",
    "        # Рекурсивно строим дерево\n",
    "        if depth >= self.max_depth or len(np.unique(y)) == 1:\n",
    "            return {'value': np.bincount(y).argmax()}\n",
    "\n",
    "        feature, threshold = self._best_split(X, y)\n",
    "        if feature is None:\n",
    "            return {'value': np.bincount(y).argmax()}\n",
    "\n",
    "        left_X, right_X, left_y, right_y = self._split(X, y, feature, threshold)\n",
    "        return {\n",
    "            'feature': feature,\n",
    "            'threshold': threshold,\n",
    "            'left': self._build_tree(left_X, left_y, depth + 1),\n",
    "            'right': self._build_tree(right_X, right_y, depth + 1)\n",
    "        }\n",
    "\n",
    "    def fit(self, X, y):\n",
    "        self.tree = self._build_tree(X, y, 0)\n",
    "\n",
    "    def _predict_one(self, x, tree):\n",
    "        # Предсказываем для одного примера\n",
    "        if 'value' in tree:\n",
    "            return tree['value']\n",
    "        if x[tree['feature']] <= tree['threshold']:\n",
    "            return self._predict_one(x, tree['left'])\n",
    "        else:\n",
    "            return self._predict_one(x, tree['right'])\n",
    "\n",
    "    def predict(self, X):\n",
    "        return np.array([self._predict_one(x, self.tree) for x in X])"
   ]
  },
  {
   "cell_type": "code",
   "execution_count": 177,
   "id": "4c2b93c0-64a9-44d4-87f5-48d5d096ed7e",
   "metadata": {},
   "outputs": [
    {
     "name": "stdout",
     "output_type": "stream",
     "text": [
      "Accuracy score\n",
      "0.8732539682539683\n",
      "\n",
      "              precision    recall  f1-score   support\n",
      "\n",
      "           0       0.88      0.99      0.93     11051\n",
      "           1       0.19      0.01      0.02      1549\n",
      "\n",
      "    accuracy                           0.87     12600\n",
      "   macro avg       0.53      0.50      0.48     12600\n",
      "weighted avg       0.79      0.87      0.82     12600\n",
      "\n"
     ]
    }
   ],
   "source": [
    "tree_model = DecisionTree()\n",
    "tree_model.fit(X_scaled, y_train_small)\n",
    "y_pred = tree_model.predict(X_test_scaled)\n",
    "print_evaluation(y_test, y_pred)"
   ]
  },
  {
   "cell_type": "markdown",
   "id": "40f730ac-7a59-40b7-bafc-d16eafa6c3a2",
   "metadata": {},
   "source": [
    "### Случайный лес"
   ]
  },
  {
   "cell_type": "code",
   "execution_count": 178,
   "id": "e0438bd0-deaf-4777-8c8d-e36e36f10602",
   "metadata": {},
   "outputs": [],
   "source": [
    "class RandomForest:\n",
    "    def __init__(self, n_trees=10, max_depth=5, sample_size=0.8):\n",
    "        self.n_trees = n_trees\n",
    "        self.max_depth = max_depth\n",
    "        self.sample_size = sample_size\n",
    "        self.trees = []\n",
    "\n",
    "    def _bootstrap_sample(self, X, y):\n",
    "        n_samples = int(len(X) * self.sample_size)\n",
    "        idxs = np.random.choice(len(X), size=n_samples, replace=True)\n",
    "        return X[idxs], y[idxs]\n",
    "\n",
    "    def fit(self, X, y):\n",
    "        self.trees = []\n",
    "        for _ in range(self.n_trees):\n",
    "            tree = DecisionTree(max_depth=self.max_depth)\n",
    "            X_sample, y_sample = self._bootstrap_sample(X, y)\n",
    "            tree.fit(X_sample, y_sample)\n",
    "            self.trees.append(tree)\n",
    "\n",
    "    def predict(self, X):\n",
    "        tree_preds = np.array([tree.predict(X) for tree in self.trees])\n",
    "        return np.array([np.bincount(tree_preds[:, i]).argmax() for i in range(X.shape[0])])\n"
   ]
  },
  {
   "cell_type": "code",
   "execution_count": 188,
   "id": "99531fdd-c692-4705-83e9-8c828a1f4b32",
   "metadata": {},
   "outputs": [],
   "source": [
    "X_train_array = X_scaled\n",
    "y_train_array = y_train_small.values\n",
    "\n",
    "X_train = X_train_array.astype(np.float64)\n",
    "y_train = y_train_array.astype(int)     \n",
    "\n"
   ]
  },
  {
   "cell_type": "code",
   "execution_count": 189,
   "id": "9c6c6a20-900c-4b57-94a1-a4060f90f39e",
   "metadata": {},
   "outputs": [
    {
     "name": "stdout",
     "output_type": "stream",
     "text": [
      "Accuracy score\n",
      "0.8770634920634921\n",
      "\n",
      "              precision    recall  f1-score   support\n",
      "\n",
      "           0       0.88      1.00      0.93     11051\n",
      "           1       0.00      0.00      0.00      1549\n",
      "\n",
      "    accuracy                           0.88     12600\n",
      "   macro avg       0.44      0.50      0.47     12600\n",
      "weighted avg       0.77      0.88      0.82     12600\n",
      "\n"
     ]
    },
    {
     "name": "stderr",
     "output_type": "stream",
     "text": [
      "C:\\Users\\Asus\\anaconda3\\Lib\\site-packages\\sklearn\\metrics\\_classification.py:1531: UndefinedMetricWarning: Precision is ill-defined and being set to 0.0 in labels with no predicted samples. Use `zero_division` parameter to control this behavior.\n",
      "  _warn_prf(average, modifier, f\"{metric.capitalize()} is\", len(result))\n",
      "C:\\Users\\Asus\\anaconda3\\Lib\\site-packages\\sklearn\\metrics\\_classification.py:1531: UndefinedMetricWarning: Precision is ill-defined and being set to 0.0 in labels with no predicted samples. Use `zero_division` parameter to control this behavior.\n",
      "  _warn_prf(average, modifier, f\"{metric.capitalize()} is\", len(result))\n",
      "C:\\Users\\Asus\\anaconda3\\Lib\\site-packages\\sklearn\\metrics\\_classification.py:1531: UndefinedMetricWarning: Precision is ill-defined and being set to 0.0 in labels with no predicted samples. Use `zero_division` parameter to control this behavior.\n",
      "  _warn_prf(average, modifier, f\"{metric.capitalize()} is\", len(result))\n"
     ]
    }
   ],
   "source": [
    "forest_model = RandomForest()\n",
    "forest_model.fit(X_train, y_train)\n",
    "y_pred = forest_model.predict(X_test_scaled)\n",
    "print_evaluation(y_test, y_pred)"
   ]
  },
  {
   "cell_type": "markdown",
   "id": "dc561ea6-ea3f-41a9-846a-0da1feb01f65",
   "metadata": {},
   "source": [
    "### Градиентный бустинг"
   ]
  },
  {
   "cell_type": "code",
   "execution_count": 181,
   "id": "a3e9989f-caab-49c5-8f1d-56386e351feb",
   "metadata": {},
   "outputs": [],
   "source": [
    "class GradientBoosting:\n",
    "    def __init__(self, n_estimators=10, learning_rate=0.1, max_depth=3):\n",
    "        self.n_estimators = n_estimators\n",
    "        self.learning_rate = learning_rate\n",
    "        self.max_depth = max_depth\n",
    "        self.trees = []\n",
    "\n",
    "    def fit(self, X, y):\n",
    "        self.trees = []\n",
    "        residual = y\n",
    "\n",
    "        for _ in range(self.n_estimators):\n",
    "            tree = DecisionTree(max_depth=self.max_depth)\n",
    "            tree.fit(X, residual)\n",
    "            predictions = tree.predict(X)\n",
    "            residual -= self.learning_rate * predictions\n",
    "            self.trees.append(tree)\n",
    "\n",
    "    def predict(self, X):\n",
    "        pred = np.zeros(X.shape[0])\n",
    "        for tree in self.trees:\n",
    "            pred += self.learning_rate * tree.predict(X)\n",
    "        return np.round(pred)\n"
   ]
  },
  {
   "cell_type": "code",
   "execution_count": 182,
   "id": "3511f1ad-1f77-40d7-9803-470622fd61f1",
   "metadata": {},
   "outputs": [
    {
     "name": "stdout",
     "output_type": "stream",
     "text": [
      "Accuracy score\n",
      "0.8770634920634921\n",
      "\n",
      "              precision    recall  f1-score   support\n",
      "\n",
      "           0       0.88      1.00      0.93     11051\n",
      "           1       0.00      0.00      0.00      1549\n",
      "\n",
      "    accuracy                           0.88     12600\n",
      "   macro avg       0.44      0.50      0.47     12600\n",
      "weighted avg       0.77      0.88      0.82     12600\n",
      "\n"
     ]
    },
    {
     "name": "stderr",
     "output_type": "stream",
     "text": [
      "C:\\Users\\Asus\\anaconda3\\Lib\\site-packages\\sklearn\\metrics\\_classification.py:1531: UndefinedMetricWarning: Precision is ill-defined and being set to 0.0 in labels with no predicted samples. Use `zero_division` parameter to control this behavior.\n",
      "  _warn_prf(average, modifier, f\"{metric.capitalize()} is\", len(result))\n",
      "C:\\Users\\Asus\\anaconda3\\Lib\\site-packages\\sklearn\\metrics\\_classification.py:1531: UndefinedMetricWarning: Precision is ill-defined and being set to 0.0 in labels with no predicted samples. Use `zero_division` parameter to control this behavior.\n",
      "  _warn_prf(average, modifier, f\"{metric.capitalize()} is\", len(result))\n",
      "C:\\Users\\Asus\\anaconda3\\Lib\\site-packages\\sklearn\\metrics\\_classification.py:1531: UndefinedMetricWarning: Precision is ill-defined and being set to 0.0 in labels with no predicted samples. Use `zero_division` parameter to control this behavior.\n",
      "  _warn_prf(average, modifier, f\"{metric.capitalize()} is\", len(result))\n"
     ]
    }
   ],
   "source": [
    "gradient_model = GradientBoosting()\n",
    "gradient_model.fit(X_scaled, y_train_small)\n",
    "y_pred = gradient_model.predict(X_test_scaled)\n",
    "print_evaluation(y_test, y_pred)"
   ]
  },
  {
   "cell_type": "markdown",
   "id": "7d5bd988-ced8-4f92-8977-1ae560594410",
   "metadata": {},
   "source": [
    " ### Вывод: как можно убедиться по результам метрик , что моя собственная имплементация алгоритмов обучения показывает их значения, не хуже чем при использовании моделей из sklearn, а иногда такая имплементация бывает более наглядной"
   ]
  },
  {
   "cell_type": "markdown",
   "id": "ae77d13a-df5e-4468-9407-8cc0a045eec2",
   "metadata": {},
   "source": [
    "Применим написаные выше модели к данным, которые прошли препроцессинг (из улучшенного бейзлайна)"
   ]
  },
  {
   "cell_type": "code",
   "execution_count": 202,
   "id": "30d95816-116c-4dc3-801d-7cd7af937f8e",
   "metadata": {},
   "outputs": [
    {
     "data": {
      "text/html": [
       "<div>\n",
       "<style scoped>\n",
       "    .dataframe tbody tr th:only-of-type {\n",
       "        vertical-align: middle;\n",
       "    }\n",
       "\n",
       "    .dataframe tbody tr th {\n",
       "        vertical-align: top;\n",
       "    }\n",
       "\n",
       "    .dataframe thead th {\n",
       "        text-align: right;\n",
       "    }\n",
       "</style>\n",
       "<table border=\"1\" class=\"dataframe\">\n",
       "  <thead>\n",
       "    <tr style=\"text-align: right;\">\n",
       "      <th></th>\n",
       "      <th>Income</th>\n",
       "      <th>Age</th>\n",
       "      <th>Experience</th>\n",
       "      <th>Married/Single</th>\n",
       "      <th>Car_Ownership</th>\n",
       "      <th>Profession</th>\n",
       "      <th>CITY</th>\n",
       "      <th>STATE</th>\n",
       "      <th>CURRENT_JOB_YRS</th>\n",
       "      <th>CURRENT_HOUSE_YRS</th>\n",
       "      <th>Risk_Flag</th>\n",
       "      <th>PC1</th>\n",
       "      <th>PC2</th>\n",
       "      <th>House_Ownership_norent_noown</th>\n",
       "      <th>House_Ownership_owned</th>\n",
       "      <th>House_Ownership_rented</th>\n",
       "    </tr>\n",
       "  </thead>\n",
       "  <tbody>\n",
       "    <tr>\n",
       "      <th>0</th>\n",
       "      <td>1303834</td>\n",
       "      <td>23</td>\n",
       "      <td>3</td>\n",
       "      <td>1</td>\n",
       "      <td>0</td>\n",
       "      <td>33</td>\n",
       "      <td>251</td>\n",
       "      <td>13</td>\n",
       "      <td>3</td>\n",
       "      <td>13</td>\n",
       "      <td>0</td>\n",
       "      <td>-1.480935</td>\n",
       "      <td>-0.188162</td>\n",
       "      <td>False</td>\n",
       "      <td>False</td>\n",
       "      <td>True</td>\n",
       "    </tr>\n",
       "    <tr>\n",
       "      <th>1</th>\n",
       "      <td>7574516</td>\n",
       "      <td>40</td>\n",
       "      <td>10</td>\n",
       "      <td>1</td>\n",
       "      <td>0</td>\n",
       "      <td>43</td>\n",
       "      <td>227</td>\n",
       "      <td>14</td>\n",
       "      <td>9</td>\n",
       "      <td>13</td>\n",
       "      <td>0</td>\n",
       "      <td>0.506973</td>\n",
       "      <td>-0.526866</td>\n",
       "      <td>False</td>\n",
       "      <td>False</td>\n",
       "      <td>True</td>\n",
       "    </tr>\n",
       "    <tr>\n",
       "      <th>2</th>\n",
       "      <td>3991815</td>\n",
       "      <td>66</td>\n",
       "      <td>4</td>\n",
       "      <td>0</td>\n",
       "      <td>0</td>\n",
       "      <td>47</td>\n",
       "      <td>8</td>\n",
       "      <td>12</td>\n",
       "      <td>4</td>\n",
       "      <td>10</td>\n",
       "      <td>0</td>\n",
       "      <td>-1.169251</td>\n",
       "      <td>-0.264246</td>\n",
       "      <td>False</td>\n",
       "      <td>False</td>\n",
       "      <td>True</td>\n",
       "    </tr>\n",
       "    <tr>\n",
       "      <th>3</th>\n",
       "      <td>6256451</td>\n",
       "      <td>41</td>\n",
       "      <td>2</td>\n",
       "      <td>1</td>\n",
       "      <td>1</td>\n",
       "      <td>43</td>\n",
       "      <td>54</td>\n",
       "      <td>17</td>\n",
       "      <td>2</td>\n",
       "      <td>12</td>\n",
       "      <td>1</td>\n",
       "      <td>-1.792620</td>\n",
       "      <td>-0.112078</td>\n",
       "      <td>False</td>\n",
       "      <td>False</td>\n",
       "      <td>True</td>\n",
       "    </tr>\n",
       "    <tr>\n",
       "      <th>4</th>\n",
       "      <td>5768871</td>\n",
       "      <td>47</td>\n",
       "      <td>11</td>\n",
       "      <td>1</td>\n",
       "      <td>0</td>\n",
       "      <td>11</td>\n",
       "      <td>296</td>\n",
       "      <td>22</td>\n",
       "      <td>3</td>\n",
       "      <td>14</td>\n",
       "      <td>1</td>\n",
       "      <td>-0.538533</td>\n",
       "      <td>0.754240</td>\n",
       "      <td>False</td>\n",
       "      <td>False</td>\n",
       "      <td>True</td>\n",
       "    </tr>\n",
       "  </tbody>\n",
       "</table>\n",
       "</div>"
      ],
      "text/plain": [
       "    Income  Age  Experience  Married/Single  Car_Ownership  Profession  CITY  \\\n",
       "0  1303834   23           3               1              0          33   251   \n",
       "1  7574516   40          10               1              0          43   227   \n",
       "2  3991815   66           4               0              0          47     8   \n",
       "3  6256451   41           2               1              1          43    54   \n",
       "4  5768871   47          11               1              0          11   296   \n",
       "\n",
       "   STATE  CURRENT_JOB_YRS  CURRENT_HOUSE_YRS  Risk_Flag       PC1       PC2  \\\n",
       "0     13                3                 13          0 -1.480935 -0.188162   \n",
       "1     14                9                 13          0  0.506973 -0.526866   \n",
       "2     12                4                 10          0 -1.169251 -0.264246   \n",
       "3     17                2                 12          1 -1.792620 -0.112078   \n",
       "4     22                3                 14          1 -0.538533  0.754240   \n",
       "\n",
       "   House_Ownership_norent_noown  House_Ownership_owned  House_Ownership_rented  \n",
       "0                         False                  False                    True  \n",
       "1                         False                  False                    True  \n",
       "2                         False                  False                    True  \n",
       "3                         False                  False                    True  \n",
       "4                         False                  False                    True  "
      ]
     },
     "execution_count": 202,
     "metadata": {},
     "output_type": "execute_result"
    }
   ],
   "source": [
    "df2.head()"
   ]
  },
  {
   "cell_type": "code",
   "execution_count": 215,
   "id": "dde80798-b341-43c9-90ca-433b3e9050a8",
   "metadata": {},
   "outputs": [
    {
     "data": {
      "text/plain": [
       "(12600, 15)"
      ]
     },
     "execution_count": 215,
     "metadata": {},
     "output_type": "execute_result"
    }
   ],
   "source": [
    "X = df2.drop(['Risk_Flag'],axis=1)\n",
    "y = df2.Risk_Flag\n",
    "X_train, X_test, y_train, y_test = train_test_split(X, y, test_size = 0.05, random_state = 0)\n",
    "X_test.shape"
   ]
  },
  {
   "cell_type": "code",
   "execution_count": 216,
   "id": "b3020bbc-34a8-4fde-b710-df96e58b583a",
   "metadata": {},
   "outputs": [],
   "source": [
    "X_train_small = X_train.sample(frac=0.05, random_state=42)\n",
    "y_train_small = y_train.loc[X_train_small.index]"
   ]
  },
  {
   "cell_type": "code",
   "execution_count": 207,
   "id": "1915f3c2-5b2a-4a7b-a358-b1d9b8f79479",
   "metadata": {},
   "outputs": [
    {
     "name": "stdout",
     "output_type": "stream",
     "text": [
      "Income                            int64\n",
      "Age                               int64\n",
      "Experience                        int64\n",
      "Married/Single                    int32\n",
      "Car_Ownership                     int32\n",
      "Profession                        int32\n",
      "CITY                              int32\n",
      "STATE                             int32\n",
      "CURRENT_JOB_YRS                   int64\n",
      "CURRENT_HOUSE_YRS                 int64\n",
      "PC1                             float64\n",
      "PC2                             float64\n",
      "House_Ownership_norent_noown       bool\n",
      "House_Ownership_owned              bool\n",
      "House_Ownership_rented             bool\n",
      "dtype: object\n",
      "int64\n"
     ]
    }
   ],
   "source": [
    "print(X_train_small.dtypes)\n",
    "print(y_train_small.dtypes)\n"
   ]
  },
  {
   "cell_type": "code",
   "execution_count": null,
   "id": "0c717665-05b2-4122-85bb-a2c0cd3c65db",
   "metadata": {},
   "outputs": [],
   "source": [
    "X_train_small = X_train_small.astype(np.float64)\n",
    "y_train_small = y_train_small.astype(int)\n"
   ]
  },
  {
   "cell_type": "markdown",
   "id": "fcd2d81f-946b-415d-b0c1-3f9d8951c40d",
   "metadata": {},
   "source": [
    "### KNN"
   ]
  },
  {
   "cell_type": "code",
   "execution_count": 221,
   "id": "5a5084cd-bb1e-4590-9e39-8bf307bbd334",
   "metadata": {},
   "outputs": [
    {
     "name": "stdout",
     "output_type": "stream",
     "text": [
      "Accuracy score\n",
      "0.861984126984127\n",
      "\n",
      "              precision    recall  f1-score   support\n",
      "\n",
      "           0       0.89      0.96      0.92     11051\n",
      "           1       0.35      0.14      0.20      1549\n",
      "\n",
      "    accuracy                           0.86     12600\n",
      "   macro avg       0.62      0.55      0.56     12600\n",
      "weighted avg       0.82      0.86      0.83     12600\n",
      "\n"
     ]
    }
   ],
   "source": [
    "knn = KNNClassifier(k=5)\n",
    "knn.fit(X_train_small, y_train_small)\n",
    "y_pred = knn.predict(X_test)\n",
    "print_evaluation(y_test, y_pred)"
   ]
  },
  {
   "cell_type": "markdown",
   "id": "08c42052-9d46-4b92-ba6a-6dd897ffdcb1",
   "metadata": {},
   "source": [
    "### Логистическая и линейная регрессия"
   ]
  },
  {
   "cell_type": "code",
   "execution_count": 222,
   "id": "724e85e1-d5e5-4227-8f58-0637b458e116",
   "metadata": {},
   "outputs": [],
   "source": [
    "scaler = StandardScaler()\n",
    "X_scaled = scaler.fit_transform(X_train_small)"
   ]
  },
  {
   "cell_type": "code",
   "execution_count": 223,
   "id": "da8d16c1-a741-4eba-ad27-919811291190",
   "metadata": {},
   "outputs": [
    {
     "name": "stdout",
     "output_type": "stream",
     "text": [
      "Accuracy score\n",
      "0.8770634920634921\n",
      "\n",
      "              precision    recall  f1-score   support\n",
      "\n",
      "           0       0.88      1.00      0.93     11051\n",
      "           1       0.00      0.00      0.00      1549\n",
      "\n",
      "    accuracy                           0.88     12600\n",
      "   macro avg       0.44      0.50      0.47     12600\n",
      "weighted avg       0.77      0.88      0.82     12600\n",
      "\n"
     ]
    },
    {
     "name": "stderr",
     "output_type": "stream",
     "text": [
      "C:\\Users\\Asus\\AppData\\Local\\Temp\\ipykernel_67248\\1012423090.py:10: RuntimeWarning: overflow encountered in exp\n",
      "  1 / (1 + np.exp(-z)),\n",
      "C:\\Users\\Asus\\anaconda3\\Lib\\site-packages\\sklearn\\metrics\\_classification.py:1531: UndefinedMetricWarning: Precision is ill-defined and being set to 0.0 in labels with no predicted samples. Use `zero_division` parameter to control this behavior.\n",
      "  _warn_prf(average, modifier, f\"{metric.capitalize()} is\", len(result))\n",
      "C:\\Users\\Asus\\anaconda3\\Lib\\site-packages\\sklearn\\metrics\\_classification.py:1531: UndefinedMetricWarning: Precision is ill-defined and being set to 0.0 in labels with no predicted samples. Use `zero_division` parameter to control this behavior.\n",
      "  _warn_prf(average, modifier, f\"{metric.capitalize()} is\", len(result))\n",
      "C:\\Users\\Asus\\anaconda3\\Lib\\site-packages\\sklearn\\metrics\\_classification.py:1531: UndefinedMetricWarning: Precision is ill-defined and being set to 0.0 in labels with no predicted samples. Use `zero_division` parameter to control this behavior.\n",
      "  _warn_prf(average, modifier, f\"{metric.capitalize()} is\", len(result))\n"
     ]
    }
   ],
   "source": [
    "logistic_model = LogisticRegression()\n",
    "logistic_model.fit(X_scaled, y_train_small)\n",
    "y_pred = logistic_model.predict(X_test)\n",
    "print_evaluation(y_test, y_pred)"
   ]
  },
  {
   "cell_type": "code",
   "execution_count": 224,
   "id": "8a86f314-81d7-4b0a-93df-d590d74e3ebc",
   "metadata": {},
   "outputs": [
    {
     "name": "stdout",
     "output_type": "stream",
     "text": [
      "Linear Regression MSE:\n",
      "0.12293650793650794\n"
     ]
    },
    {
     "name": "stderr",
     "output_type": "stream",
     "text": [
      "C:\\Users\\Asus\\AppData\\Local\\Temp\\ipykernel_67248\\1012423090.py:10: RuntimeWarning: overflow encountered in exp\n",
      "  1 / (1 + np.exp(-z)),\n"
     ]
    }
   ],
   "source": [
    "linear_model = LogisticRegression()\n",
    "linear_model.fit(X_scaled, y_train_small)\n",
    "y_pred = linear_model.predict(X_test)\n",
    "print(\"Linear Regression MSE:\")\n",
    "print(mean_squared_error(y_test, y_pred))"
   ]
  },
  {
   "cell_type": "markdown",
   "id": "c656e152-d3a9-4524-8895-4f261c23a570",
   "metadata": {},
   "source": [
    "### Решающее дерево"
   ]
  },
  {
   "cell_type": "code",
   "execution_count": 226,
   "id": "81bf55e4-7f90-4725-bc93-b0eccba7c56e",
   "metadata": {},
   "outputs": [
    {
     "name": "stdout",
     "output_type": "stream",
     "text": [
      "Accuracy score\n",
      "0.8761904761904762\n",
      "\n",
      "              precision    recall  f1-score   support\n",
      "\n",
      "           0       0.88      1.00      0.93     11051\n",
      "           1       0.41      0.02      0.03      1549\n",
      "\n",
      "    accuracy                           0.88     12600\n",
      "   macro avg       0.64      0.51      0.48     12600\n",
      "weighted avg       0.82      0.88      0.82     12600\n",
      "\n"
     ]
    }
   ],
   "source": [
    "tree_model = DecisionTree()\n",
    "tree_model.fit(X_scaled, y_train_small)\n",
    "y_pred = tree_model.predict(X_test_scaled)\n",
    "print_evaluation(y_test, y_pred)"
   ]
  },
  {
   "cell_type": "markdown",
   "id": "330f20f9-6de4-406c-86bb-937fd50fe61a",
   "metadata": {},
   "source": [
    "### Случайный лес"
   ]
  },
  {
   "cell_type": "code",
   "execution_count": 229,
   "id": "e960bbf1-defb-47f1-a4ea-18c8a0a01237",
   "metadata": {},
   "outputs": [],
   "source": [
    "X_train_array = X_scaled\n",
    "y_train_array = y_train_small.values\n",
    "\n",
    "X_scaled = X_train_array.astype(np.float64)\n",
    "y_train_small = y_train_array.astype(int)     "
   ]
  },
  {
   "cell_type": "code",
   "execution_count": 230,
   "id": "31c49bcf-fba1-48ea-acb4-80a3f699681a",
   "metadata": {},
   "outputs": [
    {
     "name": "stdout",
     "output_type": "stream",
     "text": [
      "Accuracy score\n",
      "0.8770634920634921\n",
      "\n",
      "              precision    recall  f1-score   support\n",
      "\n",
      "           0       0.88      1.00      0.93     11051\n",
      "           1       0.00      0.00      0.00      1549\n",
      "\n",
      "    accuracy                           0.88     12600\n",
      "   macro avg       0.44      0.50      0.47     12600\n",
      "weighted avg       0.77      0.88      0.82     12600\n",
      "\n"
     ]
    },
    {
     "name": "stderr",
     "output_type": "stream",
     "text": [
      "C:\\Users\\Asus\\anaconda3\\Lib\\site-packages\\sklearn\\metrics\\_classification.py:1531: UndefinedMetricWarning: Precision is ill-defined and being set to 0.0 in labels with no predicted samples. Use `zero_division` parameter to control this behavior.\n",
      "  _warn_prf(average, modifier, f\"{metric.capitalize()} is\", len(result))\n",
      "C:\\Users\\Asus\\anaconda3\\Lib\\site-packages\\sklearn\\metrics\\_classification.py:1531: UndefinedMetricWarning: Precision is ill-defined and being set to 0.0 in labels with no predicted samples. Use `zero_division` parameter to control this behavior.\n",
      "  _warn_prf(average, modifier, f\"{metric.capitalize()} is\", len(result))\n",
      "C:\\Users\\Asus\\anaconda3\\Lib\\site-packages\\sklearn\\metrics\\_classification.py:1531: UndefinedMetricWarning: Precision is ill-defined and being set to 0.0 in labels with no predicted samples. Use `zero_division` parameter to control this behavior.\n",
      "  _warn_prf(average, modifier, f\"{metric.capitalize()} is\", len(result))\n"
     ]
    }
   ],
   "source": [
    "forest_model = RandomForest()\n",
    "forest_model.fit(X_scaled, y_train_small)\n",
    "y_pred = forest_model.predict(X_test_scaled)\n",
    "print_evaluation(y_test, y_pred)"
   ]
  },
  {
   "cell_type": "markdown",
   "id": "997e27a5-f6b1-4f05-84ac-c55b0051413f",
   "metadata": {},
   "source": [
    "### Градиентный бустинг"
   ]
  },
  {
   "cell_type": "code",
   "execution_count": 228,
   "id": "308a7efa-0788-453c-8b66-e42c64352610",
   "metadata": {},
   "outputs": [
    {
     "name": "stdout",
     "output_type": "stream",
     "text": [
      "Accuracy score\n",
      "0.8770634920634921\n",
      "\n",
      "              precision    recall  f1-score   support\n",
      "\n",
      "           0       0.88      1.00      0.93     11051\n",
      "           1       0.00      0.00      0.00      1549\n",
      "\n",
      "    accuracy                           0.88     12600\n",
      "   macro avg       0.44      0.50      0.47     12600\n",
      "weighted avg       0.77      0.88      0.82     12600\n",
      "\n"
     ]
    },
    {
     "name": "stderr",
     "output_type": "stream",
     "text": [
      "C:\\Users\\Asus\\anaconda3\\Lib\\site-packages\\sklearn\\metrics\\_classification.py:1531: UndefinedMetricWarning: Precision is ill-defined and being set to 0.0 in labels with no predicted samples. Use `zero_division` parameter to control this behavior.\n",
      "  _warn_prf(average, modifier, f\"{metric.capitalize()} is\", len(result))\n",
      "C:\\Users\\Asus\\anaconda3\\Lib\\site-packages\\sklearn\\metrics\\_classification.py:1531: UndefinedMetricWarning: Precision is ill-defined and being set to 0.0 in labels with no predicted samples. Use `zero_division` parameter to control this behavior.\n",
      "  _warn_prf(average, modifier, f\"{metric.capitalize()} is\", len(result))\n",
      "C:\\Users\\Asus\\anaconda3\\Lib\\site-packages\\sklearn\\metrics\\_classification.py:1531: UndefinedMetricWarning: Precision is ill-defined and being set to 0.0 in labels with no predicted samples. Use `zero_division` parameter to control this behavior.\n",
      "  _warn_prf(average, modifier, f\"{metric.capitalize()} is\", len(result))\n"
     ]
    }
   ],
   "source": [
    "gradient_model = GradientBoosting()\n",
    "gradient_model.fit(X_scaled, y_train_small)\n",
    "y_pred = gradient_model.predict(X_test_scaled)\n",
    "print_evaluation(y_test, y_pred)"
   ]
  },
  {
   "cell_type": "markdown",
   "id": "7ec0c968-1ea4-4330-9362-2c37dc1ae696",
   "metadata": {},
   "source": [
    "### как и ожидалось резульзаты оказались примерно одинаковыми с тем, что я получил используя методы из sklearn, а это значит, что мои реализации вполне эффективны, однако все-таки для более сложных датасетов все-таки стоит отдавать предпочтение уже готовым моделям. Таким образом, я выполнил задачу классификации с использованием различных моделей, смог улучшить бейзлайн благодаря некоторым хитростям, а также собственноручно реализовал модели машинного обучения, которые оказались схожи по своим возможностям с моделями из sklearn"
   ]
  }
 ],
 "metadata": {
  "kernelspec": {
   "display_name": "Python 3 (ipykernel)",
   "language": "python",
   "name": "python3"
  },
  "language_info": {
   "codemirror_mode": {
    "name": "ipython",
    "version": 3
   },
   "file_extension": ".py",
   "mimetype": "text/x-python",
   "name": "python",
   "nbconvert_exporter": "python",
   "pygments_lexer": "ipython3",
   "version": "3.12.7"
  }
 },
 "nbformat": 4,
 "nbformat_minor": 5
}
